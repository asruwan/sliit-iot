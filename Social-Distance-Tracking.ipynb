{
  "nbformat": 4,
  "nbformat_minor": 0,
  "metadata": {
    "colab": {
      "name": "Untitled0.ipynb",
      "provenance": [],
      "mount_file_id": "1dWlGVmXm37k_HK5c9sVbqm559XCIzojA",
      "authorship_tag": "ABX9TyNGbakPNUZJsgrXX7UtQfQT",
      "include_colab_link": true
    },
    "kernelspec": {
      "name": "python3",
      "display_name": "Python 3"
    },
    "language_info": {
      "name": "python"
    },
    "accelerator": "GPU"
  },
  "cells": [
    {
      "cell_type": "markdown",
      "metadata": {
        "id": "view-in-github",
        "colab_type": "text"
      },
      "source": [
        "<a href=\"https://colab.research.google.com/github/asruwan/sliit-iot/blob/main/Social-Distance-Tracking.ipynb\" target=\"_parent\"><img src=\"https://colab.research.google.com/assets/colab-badge.svg\" alt=\"Open In Colab\"/></a>"
      ]
    },
    {
      "cell_type": "code",
      "metadata": {
        "colab": {
          "base_uri": "https://localhost:8080/"
        },
        "id": "Ss2jeW2N-7lM",
        "outputId": "474e490c-e7d9-468c-9cd7-6a7805e72752"
      },
      "source": [
        "!git clone https://github.com/AlexeyAB/darknet"
      ],
      "execution_count": null,
      "outputs": [
        {
          "output_type": "stream",
          "name": "stdout",
          "text": [
            "Cloning into 'darknet'...\n",
            "remote: Enumerating objects: 15313, done.\u001b[K\n",
            "remote: Total 15313 (delta 0), reused 0 (delta 0), pack-reused 15313\u001b[K\n",
            "Receiving objects: 100% (15313/15313), 13.70 MiB | 14.27 MiB/s, done.\n",
            "Resolving deltas: 100% (10402/10402), done.\n"
          ]
        }
      ]
    },
    {
      "cell_type": "code",
      "metadata": {
        "id": "rFLoNXx0_qOe",
        "colab": {
          "base_uri": "https://localhost:8080/"
        },
        "outputId": "d9a29f85-65ba-4e27-8414-3bd763da1921"
      },
      "source": [
        "%cd darknet\n",
        "!sed -i 's/OPENCV=0/OPENCV=1/' Makefile\n",
        "!sed -i 's/GPU=0/GPU=1/' Makefile\n",
        "!sed -i 's/CUDNN=0/CUDNN=1/' Makefile\n",
        "!sed -i 's/CUDNN_HALF=0/CUDNN_HALF=1/' Makefile"
      ],
      "execution_count": null,
      "outputs": [
        {
          "output_type": "stream",
          "name": "stdout",
          "text": [
            "[Errno 2] No such file or directory: 'darknet'\n",
            "/content/darknet\n"
          ]
        }
      ]
    }
  ]
}