{
  "nbformat": 4,
  "nbformat_minor": 0,
  "metadata": {
    "colab": {
      "name": "Azure VM Setup.ipynb",
      "provenance": [],
      "mount_file_id": "1-IbY0SxjAZocUhZEn_-VHj1p3-upYBKw",
      "authorship_tag": "ABX9TyPsr75C9AIHuXJ83I/XIoLu",
      "include_colab_link": true
    },
    "kernelspec": {
      "name": "python3",
      "display_name": "Python 3"
    },
    "language_info": {
      "name": "python"
    },
    "accelerator": "GPU"
  },
  "cells": [
    {
      "cell_type": "markdown",
      "metadata": {
        "id": "view-in-github",
        "colab_type": "text"
      },
      "source": [
        "<a href=\"https://colab.research.google.com/github/asruwan/sliit-iot/blob/main/Azure_VM_Setup.ipynb\" target=\"_parent\"><img src=\"https://colab.research.google.com/assets/colab-badge.svg\" alt=\"Open In Colab\"/></a>"
      ]
    },
    {
      "cell_type": "markdown",
      "metadata": {
        "id": "0jj09wbMwbdM"
      },
      "source": [
        "Verify cuda installation and check nvidia\n"
      ]
    },
    {
      "cell_type": "code",
      "metadata": {
        "colab": {
          "base_uri": "https://localhost:8080/"
        },
        "id": "jqn1D3PUKznC",
        "outputId": "333101a4-bc63-42ca-e8c0-93d1231cb093"
      },
      "source": [
        "!/usr/local/cuda/bin/nvcc --version"
      ],
      "execution_count": null,
      "outputs": [
        {
          "output_type": "stream",
          "name": "stdout",
          "text": [
            "nvcc: NVIDIA (R) Cuda compiler driver\n",
            "Copyright (c) 2005-2020 NVIDIA Corporation\n",
            "Built on Mon_Oct_12_20:09:46_PDT_2020\n",
            "Cuda compilation tools, release 11.1, V11.1.105\n",
            "Build cuda_11.1.TC455_06.29190527_0\n"
          ]
        }
      ]
    },
    {
      "cell_type": "markdown",
      "metadata": {
        "id": "HqEEb7T-wnP4"
      },
      "source": [
        "Get ubuntu version"
      ]
    },
    {
      "cell_type": "code",
      "metadata": {
        "colab": {
          "base_uri": "https://localhost:8080/"
        },
        "id": "tE0OfBa6LUOK",
        "outputId": "f678487b-8d6b-409f-aee7-af183a22590a"
      },
      "source": [
        "cat /etc/os-release"
      ],
      "execution_count": null,
      "outputs": [
        {
          "output_type": "stream",
          "name": "stdout",
          "text": [
            "NAME=\"Ubuntu\"\n",
            "VERSION=\"18.04.5 LTS (Bionic Beaver)\"\n",
            "ID=ubuntu\n",
            "ID_LIKE=debian\n",
            "PRETTY_NAME=\"Ubuntu 18.04.5 LTS\"\n",
            "VERSION_ID=\"18.04\"\n",
            "HOME_URL=\"https://www.ubuntu.com/\"\n",
            "SUPPORT_URL=\"https://help.ubuntu.com/\"\n",
            "BUG_REPORT_URL=\"https://bugs.launchpad.net/ubuntu/\"\n",
            "PRIVACY_POLICY_URL=\"https://www.ubuntu.com/legal/terms-and-policies/privacy-policy\"\n",
            "VERSION_CODENAME=bionic\n",
            "UBUNTU_CODENAME=bionic\n"
          ]
        }
      ]
    },
    {
      "cell_type": "markdown",
      "metadata": {
        "id": "cwc4Gx8Kw4u-"
      },
      "source": [
        "Install NVIDIA CUDA Toolkit and Nvidia graphics drivers on the host computer"
      ]
    },
    {
      "cell_type": "code",
      "metadata": {
        "id": "fhTBtA5GwzpZ"
      },
      "source": [
        "!wget https://developer.download.nvidia.com/compute/cuda/repos/ubuntu1804/x86_64/cuda-ubuntu1804.pin"
      ],
      "execution_count": null,
      "outputs": []
    },
    {
      "cell_type": "code",
      "metadata": {
        "id": "xP-_gH10Lrgy"
      },
      "source": [
        "mv drive/MyDrive/AzureVMSetup/cuda-ubuntu1804.pin /etc/apt/preferences.d/cuda-repository-pin-600"
      ],
      "execution_count": null,
      "outputs": []
    },
    {
      "cell_type": "code",
      "metadata": {
        "colab": {
          "base_uri": "https://localhost:8080/"
        },
        "id": "8907gF27MwfT",
        "outputId": "2f5759f0-9e91-4c8d-d4cd-facfa862d2f0"
      },
      "source": [
        "!apt-key adv --fetch-keys https://developer.download.nvidia.com/compute/cuda/repos/ubuntu1804/x86_64/7fa2af80.pub"
      ],
      "execution_count": null,
      "outputs": [
        {
          "output_type": "stream",
          "name": "stdout",
          "text": [
            "Executing: /tmp/apt-key-gpghome.WBMIDSZsby/gpg.1.sh --fetch-keys https://developer.download.nvidia.com/compute/cuda/repos/ubuntu1804/x86_64/7fa2af80.pub\n",
            "gpg: requesting key from 'https://developer.download.nvidia.com/compute/cuda/repos/ubuntu1804/x86_64/7fa2af80.pub'\n",
            "gpg: key F60F4B3D7FA2AF80: \"cudatools <cudatools@nvidia.com>\" not changed\n",
            "gpg: Total number processed: 1\n",
            "gpg:              unchanged: 1\n"
          ]
        }
      ]
    },
    {
      "cell_type": "code",
      "metadata": {
        "colab": {
          "base_uri": "https://localhost:8080/"
        },
        "id": "lOyYh5I4No6q",
        "outputId": "336b04b2-b907-4674-a17a-79eb8f89379f"
      },
      "source": [
        "!add-apt-repository \"deb http://developer.download.nvidia.com/compute/cuda/repos/ubuntu1804/x86_64/ /\""
      ],
      "execution_count": null,
      "outputs": [
        {
          "output_type": "stream",
          "name": "stdout",
          "text": [
            "\r0% [Working]\r            \rGet:1 http://security.ubuntu.com/ubuntu bionic-security InRelease [88.7 kB]\n",
            "\r0% [Connecting to archive.ubuntu.com] [1 InRelease 14.2 kB/88.7 kB 16%] [Connec\r                                                                               \rIgn:2 http://developer.download.nvidia.com/compute/cuda/repos/ubuntu1804/x86_64  InRelease\n",
            "\r0% [Connecting to archive.ubuntu.com] [1 InRelease 14.2 kB/88.7 kB 16%] [Waitin\r                                                                               \rGet:3 https://cloud.r-project.org/bin/linux/ubuntu bionic-cran40/ InRelease [3,626 B]\n",
            "Hit:4 http://developer.download.nvidia.com/compute/cuda/repos/ubuntu1804/x86_64  Release\n",
            "Ign:5 https://developer.download.nvidia.com/compute/machine-learning/repos/ubuntu1804/x86_64  InRelease\n",
            "Hit:6 https://developer.download.nvidia.com/compute/machine-learning/repos/ubuntu1804/x86_64  Release\n",
            "Hit:7 http://ppa.launchpad.net/c2d4u.team/c2d4u4.0+/ubuntu bionic InRelease\n",
            "Hit:8 http://archive.ubuntu.com/ubuntu bionic InRelease\n",
            "Hit:9 http://ppa.launchpad.net/cran/libgit2/ubuntu bionic InRelease\n",
            "Get:10 http://archive.ubuntu.com/ubuntu bionic-updates InRelease [88.7 kB]\n",
            "Hit:12 http://ppa.launchpad.net/deadsnakes/ppa/ubuntu bionic InRelease\n",
            "Hit:14 http://ppa.launchpad.net/graphics-drivers/ppa/ubuntu bionic InRelease\n",
            "Get:15 http://archive.ubuntu.com/ubuntu bionic-backports InRelease [74.6 kB]\n",
            "Get:16 http://security.ubuntu.com/ubuntu bionic-security/universe amd64 Packages [1,430 kB]\n",
            "Get:17 http://archive.ubuntu.com/ubuntu bionic-updates/universe amd64 Packages [2,208 kB]\n",
            "Get:18 http://archive.ubuntu.com/ubuntu bionic-updates/main amd64 Packages [2,800 kB]\n",
            "Fetched 6,695 kB in 3s (2,246 kB/s)\n",
            "Reading package lists... Done\n",
            "W: Target Packages (Packages) is configured multiple times in /etc/apt/sources.list:51 and /etc/apt/sources.list.d/cuda.list:1\n",
            "W: Target Packages (Packages) is configured multiple times in /etc/apt/sources.list:51 and /etc/apt/sources.list.d/cuda.list:1\n"
          ]
        }
      ]
    },
    {
      "cell_type": "code",
      "metadata": {
        "colab": {
          "base_uri": "https://localhost:8080/"
        },
        "id": "fT5i3QW2Nvph",
        "outputId": "d93493a3-d9eb-45c3-d167-78d74352fccb"
      },
      "source": [
        "!apt-get update"
      ],
      "execution_count": null,
      "outputs": [
        {
          "output_type": "stream",
          "name": "stdout",
          "text": [
            "\r0% [Working]\r            \rHit:1 https://cloud.r-project.org/bin/linux/ubuntu bionic-cran40/ InRelease\n",
            "\r0% [Connecting to archive.ubuntu.com (91.189.88.152)] [Waiting for headers] [Wa\r0% [1 InRelease gpgv 3,626 B] [Connecting to archive.ubuntu.com (91.189.88.152)\r                                                                               \rIgn:2 http://developer.download.nvidia.com/compute/cuda/repos/ubuntu1804/x86_64  InRelease\n",
            "\r0% [1 InRelease gpgv 3,626 B] [Connecting to archive.ubuntu.com (91.189.88.152)\r                                                                               \rHit:3 http://security.ubuntu.com/ubuntu bionic-security InRelease\n",
            "\r0% [1 InRelease gpgv 3,626 B] [Connecting to archive.ubuntu.com (91.189.88.152)\r                                                                               \rHit:4 http://developer.download.nvidia.com/compute/cuda/repos/ubuntu1804/x86_64  Release\n",
            "\r0% [1 InRelease gpgv 3,626 B] [Connecting to archive.ubuntu.com (91.189.88.152)\r                                                                               \rIgn:5 https://developer.download.nvidia.com/compute/machine-learning/repos/ubuntu1804/x86_64  InRelease\n",
            "Hit:6 https://developer.download.nvidia.com/compute/machine-learning/repos/ubuntu1804/x86_64  Release\n",
            "Hit:7 http://ppa.launchpad.net/c2d4u.team/c2d4u4.0+/ubuntu bionic InRelease\n",
            "Hit:8 http://archive.ubuntu.com/ubuntu bionic InRelease\n",
            "Hit:9 http://archive.ubuntu.com/ubuntu bionic-updates InRelease\n",
            "Hit:10 http://ppa.launchpad.net/cran/libgit2/ubuntu bionic InRelease\n",
            "Hit:11 http://archive.ubuntu.com/ubuntu bionic-backports InRelease\n",
            "Hit:12 http://ppa.launchpad.net/deadsnakes/ppa/ubuntu bionic InRelease\n",
            "Hit:14 http://ppa.launchpad.net/graphics-drivers/ppa/ubuntu bionic InRelease\n",
            "Reading package lists... Done\n",
            "W: Target Packages (Packages) is configured multiple times in /etc/apt/sources.list:51 and /etc/apt/sources.list.d/cuda.list:1\n",
            "W: Target Packages (Packages) is configured multiple times in /etc/apt/sources.list:51 and /etc/apt/sources.list.d/cuda.list:1\n"
          ]
        }
      ]
    },
    {
      "cell_type": "code",
      "metadata": {
        "colab": {
          "base_uri": "https://localhost:8080/"
        },
        "id": "cS3z7WBYNz3s",
        "outputId": "9d947a8d-be8f-423d-9900-6c6fe918661f"
      },
      "source": [
        " !apt-get -y install cuda"
      ],
      "execution_count": null,
      "outputs": [
        {
          "output_type": "stream",
          "name": "stdout",
          "text": [
            "Reading package lists... Done\n",
            "Building dependency tree       \n",
            "Reading state information... Done\n",
            "The following additional packages will be installed:\n",
            "  cuda-11-4 cuda-cccl-11-4 cuda-command-line-tools-11-4 cuda-compiler-11-4\n",
            "  cuda-cudart-11-4 cuda-cudart-dev-11-4 cuda-cuobjdump-11-4 cuda-cupti-11-4\n",
            "  cuda-cupti-dev-11-4 cuda-cuxxfilt-11-4 cuda-demo-suite-11-4\n",
            "  cuda-documentation-11-4 cuda-driver-dev-11-4 cuda-gdb-11-4\n",
            "  cuda-libraries-11-4 cuda-libraries-dev-11-4 cuda-memcheck-11-4\n",
            "  cuda-nsight-11-4 cuda-nsight-compute-11-4 cuda-nsight-systems-11-4\n",
            "  cuda-nvcc-11-4 cuda-nvdisasm-11-4 cuda-nvml-dev-11-4 cuda-nvprof-11-4\n",
            "  cuda-nvprune-11-4 cuda-nvrtc-11-4 cuda-nvrtc-dev-11-4 cuda-nvtx-11-4\n",
            "  cuda-nvvp-11-4 cuda-runtime-11-4 cuda-samples-11-4 cuda-sanitizer-11-4\n",
            "  cuda-toolkit-11-4 cuda-toolkit-11-4-config-common\n",
            "  cuda-toolkit-11-config-common cuda-toolkit-config-common cuda-tools-11-4\n",
            "  cuda-visual-tools-11-4 gds-tools-11-4 libcublas-11-4 libcublas-dev-11-4\n",
            "  libcufft-11-4 libcufft-dev-11-4 libcufile-11-4 libcufile-dev-11-4\n",
            "  libcurand-11-4 libcurand-dev-11-4 libcusolver-11-4 libcusolver-dev-11-4\n",
            "  libcusparse-11-4 libcusparse-dev-11-4 libnpp-11-4 libnpp-dev-11-4\n",
            "  libnvjpeg-11-4 libnvjpeg-dev-11-4 liburcu6\n",
            "The following NEW packages will be installed:\n",
            "  cuda cuda-11-4 cuda-cccl-11-4 cuda-command-line-tools-11-4\n",
            "  cuda-compiler-11-4 cuda-cudart-11-4 cuda-cudart-dev-11-4 cuda-cuobjdump-11-4\n",
            "  cuda-cupti-11-4 cuda-cupti-dev-11-4 cuda-cuxxfilt-11-4 cuda-demo-suite-11-4\n",
            "  cuda-documentation-11-4 cuda-driver-dev-11-4 cuda-gdb-11-4\n",
            "  cuda-libraries-11-4 cuda-libraries-dev-11-4 cuda-memcheck-11-4\n",
            "  cuda-nsight-11-4 cuda-nsight-compute-11-4 cuda-nsight-systems-11-4\n",
            "  cuda-nvcc-11-4 cuda-nvdisasm-11-4 cuda-nvml-dev-11-4 cuda-nvprof-11-4\n",
            "  cuda-nvprune-11-4 cuda-nvrtc-11-4 cuda-nvrtc-dev-11-4 cuda-nvtx-11-4\n",
            "  cuda-nvvp-11-4 cuda-runtime-11-4 cuda-samples-11-4 cuda-sanitizer-11-4\n",
            "  cuda-toolkit-11-4 cuda-toolkit-11-4-config-common\n",
            "  cuda-toolkit-11-config-common cuda-toolkit-config-common cuda-tools-11-4\n",
            "  cuda-visual-tools-11-4 gds-tools-11-4 libcublas-11-4 libcublas-dev-11-4\n",
            "  libcufft-11-4 libcufft-dev-11-4 libcufile-11-4 libcufile-dev-11-4\n",
            "  libcurand-11-4 libcurand-dev-11-4 libcusolver-11-4 libcusolver-dev-11-4\n",
            "  libcusparse-11-4 libcusparse-dev-11-4 libnpp-11-4 libnpp-dev-11-4\n",
            "  libnvjpeg-11-4 libnvjpeg-dev-11-4 liburcu6\n",
            "0 upgraded, 57 newly installed, 0 to remove and 37 not upgraded.\n",
            "Need to get 1,678 MB of archives.\n",
            "After this operation, 4,909 MB of additional disk space will be used.\n",
            "Get:1 http://developer.download.nvidia.com/compute/cuda/repos/ubuntu1804/x86_64  cuda-toolkit-config-common 11.4.108-1 [16.2 kB]\n",
            "Get:2 http://developer.download.nvidia.com/compute/cuda/repos/ubuntu1804/x86_64  cuda-toolkit-11-config-common 11.4.108-1 [16.3 kB]\n",
            "Get:3 http://developer.download.nvidia.com/compute/cuda/repos/ubuntu1804/x86_64  cuda-toolkit-11-4-config-common 11.4.108-1 [16.2 kB]\n",
            "Get:4 http://developer.download.nvidia.com/compute/cuda/repos/ubuntu1804/x86_64  cuda-cudart-11-4 11.4.108-1 [158 kB]\n",
            "Get:5 http://developer.download.nvidia.com/compute/cuda/repos/ubuntu1804/x86_64  cuda-nvrtc-11-4 11.4.120-1 [14.7 MB]\n",
            "Get:6 http://archive.ubuntu.com/ubuntu bionic-updates/main amd64 liburcu6 amd64 0.10.1-1ubuntu1 [52.2 kB]\n",
            "Get:7 http://developer.download.nvidia.com/compute/cuda/repos/ubuntu1804/x86_64  libcublas-11-4 11.6.1.51-1 [200 MB]\n",
            "Get:8 http://developer.download.nvidia.com/compute/cuda/repos/ubuntu1804/x86_64  libcufft-11-4 10.5.2.100-1 [80.9 MB]\n",
            "Get:9 http://developer.download.nvidia.com/compute/cuda/repos/ubuntu1804/x86_64  libcufile-11-4 1.0.2.10-1 [424 kB]\n",
            "Get:10 http://developer.download.nvidia.com/compute/cuda/repos/ubuntu1804/x86_64  libcurand-11-4 10.2.5.120-1 [39.4 MB]\n",
            "Get:11 http://developer.download.nvidia.com/compute/cuda/repos/ubuntu1804/x86_64  libcusolver-11-4 11.2.0.120-1 [91.2 MB]\n",
            "Get:12 http://developer.download.nvidia.com/compute/cuda/repos/ubuntu1804/x86_64  libcusparse-11-4 11.6.0.120-1 [104 MB]\n",
            "Get:13 http://developer.download.nvidia.com/compute/cuda/repos/ubuntu1804/x86_64  libnpp-11-4 11.4.0.110-1 [75.5 MB]\n",
            "Get:14 http://developer.download.nvidia.com/compute/cuda/repos/ubuntu1804/x86_64  libnvjpeg-11-4 11.5.2.120-1 [1,716 kB]\n",
            "Get:15 http://developer.download.nvidia.com/compute/cuda/repos/ubuntu1804/x86_64  cuda-libraries-11-4 11.4.2-1 [2,510 B]\n",
            "Get:16 http://developer.download.nvidia.com/compute/cuda/repos/ubuntu1804/x86_64  cuda-runtime-11-4 11.4.2-1 [2,420 B]\n",
            "Get:17 http://developer.download.nvidia.com/compute/cuda/repos/ubuntu1804/x86_64  cuda-cuobjdump-11-4 11.4.120-1 [112 kB]\n",
            "Get:18 http://developer.download.nvidia.com/compute/cuda/repos/ubuntu1804/x86_64  cuda-cuxxfilt-11-4 11.4.120-1 [180 kB]\n",
            "Get:19 http://developer.download.nvidia.com/compute/cuda/repos/ubuntu1804/x86_64  cuda-cccl-11-4 11.4.122-1 [985 kB]\n",
            "Get:20 http://developer.download.nvidia.com/compute/cuda/repos/ubuntu1804/x86_64  cuda-driver-dev-11-4 11.4.108-1 [26.9 kB]\n",
            "Get:21 http://developer.download.nvidia.com/compute/cuda/repos/ubuntu1804/x86_64  cuda-cudart-dev-11-4 11.4.108-1 [739 kB]\n",
            "Get:22 http://developer.download.nvidia.com/compute/cuda/repos/ubuntu1804/x86_64  cuda-nvcc-11-4 11.4.120-1 [36.0 MB]\n",
            "Get:23 http://developer.download.nvidia.com/compute/cuda/repos/ubuntu1804/x86_64  cuda-nvprune-11-4 11.4.120-1 [55.0 kB]\n",
            "Get:24 http://developer.download.nvidia.com/compute/cuda/repos/ubuntu1804/x86_64  cuda-compiler-11-4 11.4.2-1 [2,424 B]\n",
            "Get:25 http://developer.download.nvidia.com/compute/cuda/repos/ubuntu1804/x86_64  cuda-nvrtc-dev-11-4 11.4.120-1 [23.8 kB]\n",
            "Get:26 http://developer.download.nvidia.com/compute/cuda/repos/ubuntu1804/x86_64  libcublas-dev-11-4 11.6.1.51-1 [205 MB]\n",
            "Get:27 http://developer.download.nvidia.com/compute/cuda/repos/ubuntu1804/x86_64  libcufft-dev-11-4 10.5.2.100-1 [178 MB]\n",
            "Get:28 http://developer.download.nvidia.com/compute/cuda/repos/ubuntu1804/x86_64  libcufile-dev-11-4 1.0.2.10-1 [6,779 kB]\n",
            "Get:29 http://developer.download.nvidia.com/compute/cuda/repos/ubuntu1804/x86_64  libcurand-dev-11-4 10.2.5.120-1 [39.9 MB]\n",
            "Get:30 http://developer.download.nvidia.com/compute/cuda/repos/ubuntu1804/x86_64  libcusolver-dev-11-4 11.2.0.120-1 [22.7 MB]\n",
            "Get:31 http://developer.download.nvidia.com/compute/cuda/repos/ubuntu1804/x86_64  libcusparse-dev-11-4 11.6.0.120-1 [105 MB]\n",
            "Get:32 http://developer.download.nvidia.com/compute/cuda/repos/ubuntu1804/x86_64  libnpp-dev-11-4 11.4.0.110-1 [73.5 MB]\n",
            "Get:33 http://developer.download.nvidia.com/compute/cuda/repos/ubuntu1804/x86_64  libnvjpeg-dev-11-4 11.5.2.120-1 [1,392 kB]\n",
            "Get:34 http://developer.download.nvidia.com/compute/cuda/repos/ubuntu1804/x86_64  cuda-libraries-dev-11-4 11.4.2-1 [2,540 B]\n",
            "Get:35 http://developer.download.nvidia.com/compute/cuda/repos/ubuntu1804/x86_64  cuda-cupti-11-4 11.4.120-1 [12.9 MB]\n",
            "Get:36 http://developer.download.nvidia.com/compute/cuda/repos/ubuntu1804/x86_64  cuda-cupti-dev-11-4 11.4.120-1 [2,430 kB]\n",
            "Get:37 http://developer.download.nvidia.com/compute/cuda/repos/ubuntu1804/x86_64  cuda-nvdisasm-11-4 11.4.120-1 [32.9 MB]\n",
            "Get:38 http://developer.download.nvidia.com/compute/cuda/repos/ubuntu1804/x86_64  cuda-gdb-11-4 11.4.120-1 [4,102 kB]\n",
            "Get:39 http://developer.download.nvidia.com/compute/cuda/repos/ubuntu1804/x86_64  cuda-memcheck-11-4 11.4.120-1 [142 kB]\n",
            "Get:40 http://developer.download.nvidia.com/compute/cuda/repos/ubuntu1804/x86_64  cuda-nvprof-11-4 11.4.120-1 [1,947 kB]\n",
            "Get:41 http://developer.download.nvidia.com/compute/cuda/repos/ubuntu1804/x86_64  cuda-nvtx-11-4 11.4.120-1 [51.4 kB]\n",
            "Get:42 http://developer.download.nvidia.com/compute/cuda/repos/ubuntu1804/x86_64  cuda-sanitizer-11-4 11.4.120-1 [7,730 kB]\n",
            "Get:43 http://developer.download.nvidia.com/compute/cuda/repos/ubuntu1804/x86_64  cuda-command-line-tools-11-4 11.4.2-1 [2,470 B]\n",
            "Get:44 http://developer.download.nvidia.com/compute/cuda/repos/ubuntu1804/x86_64  cuda-nsight-compute-11-4 11.4.2-1 [3,698 B]\n",
            "Get:45 http://developer.download.nvidia.com/compute/cuda/repos/ubuntu1804/x86_64  cuda-nsight-systems-11-4 11.4.2-1 [3,302 B]\n",
            "Get:46 http://developer.download.nvidia.com/compute/cuda/repos/ubuntu1804/x86_64  cuda-nsight-11-4 11.4.120-1 [119 MB]\n",
            "Get:47 http://developer.download.nvidia.com/compute/cuda/repos/ubuntu1804/x86_64  cuda-nvml-dev-11-4 11.4.120-1 [74.9 kB]\n",
            "Get:48 http://developer.download.nvidia.com/compute/cuda/repos/ubuntu1804/x86_64  cuda-nvvp-11-4 11.4.120-1 [118 MB]\n",
            "Get:49 http://developer.download.nvidia.com/compute/cuda/repos/ubuntu1804/x86_64  cuda-visual-tools-11-4 11.4.2-1 [2,866 B]\n",
            "Get:50 http://developer.download.nvidia.com/compute/cuda/repos/ubuntu1804/x86_64  gds-tools-11-4 1.0.2.10-1 [38.7 MB]\n",
            "Get:51 http://developer.download.nvidia.com/compute/cuda/repos/ubuntu1804/x86_64  cuda-tools-11-4 11.4.2-1 [2,384 B]\n",
            "Get:52 http://developer.download.nvidia.com/compute/cuda/repos/ubuntu1804/x86_64  cuda-samples-11-4 11.4.120-1 [58.2 MB]\n",
            "Get:53 http://developer.download.nvidia.com/compute/cuda/repos/ubuntu1804/x86_64  cuda-documentation-11-4 11.4.126-1 [49.2 kB]\n",
            "Get:54 http://developer.download.nvidia.com/compute/cuda/repos/ubuntu1804/x86_64  cuda-toolkit-11-4 11.4.2-1 [3,328 B]\n",
            "Get:55 http://developer.download.nvidia.com/compute/cuda/repos/ubuntu1804/x86_64  cuda-demo-suite-11-4 11.4.100-1 [3,987 kB]\n",
            "Get:56 http://developer.download.nvidia.com/compute/cuda/repos/ubuntu1804/x86_64  cuda-11-4 11.4.2-1 [2,448 B]\n",
            "Get:57 http://developer.download.nvidia.com/compute/cuda/repos/ubuntu1804/x86_64  cuda 11.4.2-1 [2,392 B]\n",
            "Fetched 1,678 MB in 34s (48.8 MB/s)\n",
            "W: Target Packages (Packages) is configured multiple times in /etc/apt/sources.list:51 and /etc/apt/sources.list.d/cuda.list:1\n",
            "Extracting templates from packages: 52%W: Target Packages (Packages) is configured multiple times in /etc/apt/sources.list:51 and /etc/apt/sources.list.d/cuda.list:1\n",
            "Extracting templates from packages: 100%\n",
            "Selecting previously unselected package cuda-toolkit-config-common.\n",
            "(Reading database ... 155047 files and directories currently installed.)\n",
            "Preparing to unpack .../00-cuda-toolkit-config-common_11.4.108-1_all.deb ...\n",
            "Unpacking cuda-toolkit-config-common (11.4.108-1) ...\n",
            "Selecting previously unselected package cuda-toolkit-11-config-common.\n",
            "Preparing to unpack .../01-cuda-toolkit-11-config-common_11.4.108-1_all.deb ...\n",
            "Unpacking cuda-toolkit-11-config-common (11.4.108-1) ...\n",
            "Selecting previously unselected package cuda-toolkit-11-4-config-common.\n",
            "Preparing to unpack .../02-cuda-toolkit-11-4-config-common_11.4.108-1_all.deb ...\n",
            "Unpacking cuda-toolkit-11-4-config-common (11.4.108-1) ...\n",
            "Selecting previously unselected package cuda-cudart-11-4.\n",
            "Preparing to unpack .../03-cuda-cudart-11-4_11.4.108-1_amd64.deb ...\n",
            "Unpacking cuda-cudart-11-4 (11.4.108-1) ...\n",
            "Selecting previously unselected package cuda-nvrtc-11-4.\n",
            "Preparing to unpack .../04-cuda-nvrtc-11-4_11.4.120-1_amd64.deb ...\n",
            "Unpacking cuda-nvrtc-11-4 (11.4.120-1) ...\n",
            "Selecting previously unselected package libcublas-11-4.\n",
            "Preparing to unpack .../05-libcublas-11-4_11.6.1.51-1_amd64.deb ...\n",
            "Unpacking libcublas-11-4 (11.6.1.51-1) ...\n",
            "Selecting previously unselected package libcufft-11-4.\n",
            "Preparing to unpack .../06-libcufft-11-4_10.5.2.100-1_amd64.deb ...\n",
            "Unpacking libcufft-11-4 (10.5.2.100-1) ...\n",
            "Selecting previously unselected package liburcu6:amd64.\n",
            "Preparing to unpack .../07-liburcu6_0.10.1-1ubuntu1_amd64.deb ...\n",
            "Unpacking liburcu6:amd64 (0.10.1-1ubuntu1) ...\n",
            "Selecting previously unselected package libcufile-11-4.\n",
            "Preparing to unpack .../08-libcufile-11-4_1.0.2.10-1_amd64.deb ...\n",
            "Unpacking libcufile-11-4 (1.0.2.10-1) ...\n",
            "Selecting previously unselected package libcurand-11-4.\n",
            "Preparing to unpack .../09-libcurand-11-4_10.2.5.120-1_amd64.deb ...\n",
            "Unpacking libcurand-11-4 (10.2.5.120-1) ...\n",
            "Selecting previously unselected package libcusolver-11-4.\n",
            "Preparing to unpack .../10-libcusolver-11-4_11.2.0.120-1_amd64.deb ...\n",
            "Unpacking libcusolver-11-4 (11.2.0.120-1) ...\n",
            "Selecting previously unselected package libcusparse-11-4.\n",
            "Preparing to unpack .../11-libcusparse-11-4_11.6.0.120-1_amd64.deb ...\n",
            "Unpacking libcusparse-11-4 (11.6.0.120-1) ...\n",
            "Selecting previously unselected package libnpp-11-4.\n",
            "Preparing to unpack .../12-libnpp-11-4_11.4.0.110-1_amd64.deb ...\n",
            "Unpacking libnpp-11-4 (11.4.0.110-1) ...\n",
            "Selecting previously unselected package libnvjpeg-11-4.\n",
            "Preparing to unpack .../13-libnvjpeg-11-4_11.5.2.120-1_amd64.deb ...\n",
            "Unpacking libnvjpeg-11-4 (11.5.2.120-1) ...\n",
            "Selecting previously unselected package cuda-libraries-11-4.\n",
            "Preparing to unpack .../14-cuda-libraries-11-4_11.4.2-1_amd64.deb ...\n",
            "Unpacking cuda-libraries-11-4 (11.4.2-1) ...\n",
            "Selecting previously unselected package cuda-runtime-11-4.\n",
            "Preparing to unpack .../15-cuda-runtime-11-4_11.4.2-1_amd64.deb ...\n",
            "Unpacking cuda-runtime-11-4 (11.4.2-1) ...\n",
            "Selecting previously unselected package cuda-cuobjdump-11-4.\n",
            "Preparing to unpack .../16-cuda-cuobjdump-11-4_11.4.120-1_amd64.deb ...\n",
            "Unpacking cuda-cuobjdump-11-4 (11.4.120-1) ...\n",
            "Selecting previously unselected package cuda-cuxxfilt-11-4.\n",
            "Preparing to unpack .../17-cuda-cuxxfilt-11-4_11.4.120-1_amd64.deb ...\n",
            "Unpacking cuda-cuxxfilt-11-4 (11.4.120-1) ...\n",
            "Selecting previously unselected package cuda-cccl-11-4.\n",
            "Preparing to unpack .../18-cuda-cccl-11-4_11.4.122-1_amd64.deb ...\n",
            "Unpacking cuda-cccl-11-4 (11.4.122-1) ...\n",
            "Selecting previously unselected package cuda-driver-dev-11-4.\n",
            "Preparing to unpack .../19-cuda-driver-dev-11-4_11.4.108-1_amd64.deb ...\n",
            "Unpacking cuda-driver-dev-11-4 (11.4.108-1) ...\n",
            "Selecting previously unselected package cuda-cudart-dev-11-4.\n",
            "Preparing to unpack .../20-cuda-cudart-dev-11-4_11.4.108-1_amd64.deb ...\n",
            "Unpacking cuda-cudart-dev-11-4 (11.4.108-1) ...\n",
            "Selecting previously unselected package cuda-nvcc-11-4.\n",
            "Preparing to unpack .../21-cuda-nvcc-11-4_11.4.120-1_amd64.deb ...\n",
            "Unpacking cuda-nvcc-11-4 (11.4.120-1) ...\n",
            "Selecting previously unselected package cuda-nvprune-11-4.\n",
            "Preparing to unpack .../22-cuda-nvprune-11-4_11.4.120-1_amd64.deb ...\n",
            "Unpacking cuda-nvprune-11-4 (11.4.120-1) ...\n",
            "Selecting previously unselected package cuda-compiler-11-4.\n",
            "Preparing to unpack .../23-cuda-compiler-11-4_11.4.2-1_amd64.deb ...\n",
            "Unpacking cuda-compiler-11-4 (11.4.2-1) ...\n",
            "Selecting previously unselected package cuda-nvrtc-dev-11-4.\n",
            "Preparing to unpack .../24-cuda-nvrtc-dev-11-4_11.4.120-1_amd64.deb ...\n",
            "Unpacking cuda-nvrtc-dev-11-4 (11.4.120-1) ...\n",
            "Selecting previously unselected package libcublas-dev-11-4.\n",
            "Preparing to unpack .../25-libcublas-dev-11-4_11.6.1.51-1_amd64.deb ...\n",
            "Unpacking libcublas-dev-11-4 (11.6.1.51-1) ...\n",
            "Selecting previously unselected package libcufft-dev-11-4.\n",
            "Preparing to unpack .../26-libcufft-dev-11-4_10.5.2.100-1_amd64.deb ...\n",
            "Unpacking libcufft-dev-11-4 (10.5.2.100-1) ...\n",
            "Selecting previously unselected package libcufile-dev-11-4.\n",
            "Preparing to unpack .../27-libcufile-dev-11-4_1.0.2.10-1_amd64.deb ...\n",
            "Unpacking libcufile-dev-11-4 (1.0.2.10-1) ...\n",
            "Selecting previously unselected package libcurand-dev-11-4.\n",
            "Preparing to unpack .../28-libcurand-dev-11-4_10.2.5.120-1_amd64.deb ...\n",
            "Unpacking libcurand-dev-11-4 (10.2.5.120-1) ...\n",
            "Selecting previously unselected package libcusolver-dev-11-4.\n",
            "Preparing to unpack .../29-libcusolver-dev-11-4_11.2.0.120-1_amd64.deb ...\n",
            "Unpacking libcusolver-dev-11-4 (11.2.0.120-1) ...\n",
            "Selecting previously unselected package libcusparse-dev-11-4.\n",
            "Preparing to unpack .../30-libcusparse-dev-11-4_11.6.0.120-1_amd64.deb ...\n",
            "Unpacking libcusparse-dev-11-4 (11.6.0.120-1) ...\n",
            "Selecting previously unselected package libnpp-dev-11-4.\n",
            "Preparing to unpack .../31-libnpp-dev-11-4_11.4.0.110-1_amd64.deb ...\n",
            "Unpacking libnpp-dev-11-4 (11.4.0.110-1) ...\n",
            "Selecting previously unselected package libnvjpeg-dev-11-4.\n",
            "Preparing to unpack .../32-libnvjpeg-dev-11-4_11.5.2.120-1_amd64.deb ...\n",
            "Unpacking libnvjpeg-dev-11-4 (11.5.2.120-1) ...\n",
            "Selecting previously unselected package cuda-libraries-dev-11-4.\n",
            "Preparing to unpack .../33-cuda-libraries-dev-11-4_11.4.2-1_amd64.deb ...\n",
            "Unpacking cuda-libraries-dev-11-4 (11.4.2-1) ...\n",
            "Selecting previously unselected package cuda-cupti-11-4.\n",
            "Preparing to unpack .../34-cuda-cupti-11-4_11.4.120-1_amd64.deb ...\n",
            "Unpacking cuda-cupti-11-4 (11.4.120-1) ...\n",
            "Selecting previously unselected package cuda-cupti-dev-11-4.\n",
            "Preparing to unpack .../35-cuda-cupti-dev-11-4_11.4.120-1_amd64.deb ...\n",
            "Unpacking cuda-cupti-dev-11-4 (11.4.120-1) ...\n",
            "Selecting previously unselected package cuda-nvdisasm-11-4.\n",
            "Preparing to unpack .../36-cuda-nvdisasm-11-4_11.4.120-1_amd64.deb ...\n",
            "Unpacking cuda-nvdisasm-11-4 (11.4.120-1) ...\n",
            "Selecting previously unselected package cuda-gdb-11-4.\n",
            "Preparing to unpack .../37-cuda-gdb-11-4_11.4.120-1_amd64.deb ...\n",
            "Unpacking cuda-gdb-11-4 (11.4.120-1) ...\n",
            "Selecting previously unselected package cuda-memcheck-11-4.\n",
            "Preparing to unpack .../38-cuda-memcheck-11-4_11.4.120-1_amd64.deb ...\n",
            "Unpacking cuda-memcheck-11-4 (11.4.120-1) ...\n",
            "Selecting previously unselected package cuda-nvprof-11-4.\n",
            "Preparing to unpack .../39-cuda-nvprof-11-4_11.4.120-1_amd64.deb ...\n",
            "Unpacking cuda-nvprof-11-4 (11.4.120-1) ...\n",
            "Selecting previously unselected package cuda-nvtx-11-4.\n",
            "Preparing to unpack .../40-cuda-nvtx-11-4_11.4.120-1_amd64.deb ...\n",
            "Unpacking cuda-nvtx-11-4 (11.4.120-1) ...\n",
            "Selecting previously unselected package cuda-sanitizer-11-4.\n",
            "Preparing to unpack .../41-cuda-sanitizer-11-4_11.4.120-1_amd64.deb ...\n",
            "Unpacking cuda-sanitizer-11-4 (11.4.120-1) ...\n",
            "Selecting previously unselected package cuda-command-line-tools-11-4.\n",
            "Preparing to unpack .../42-cuda-command-line-tools-11-4_11.4.2-1_amd64.deb ...\n",
            "Unpacking cuda-command-line-tools-11-4 (11.4.2-1) ...\n",
            "Selecting previously unselected package cuda-nsight-compute-11-4.\n",
            "Preparing to unpack .../43-cuda-nsight-compute-11-4_11.4.2-1_amd64.deb ...\n",
            "Unpacking cuda-nsight-compute-11-4 (11.4.2-1) ...\n",
            "Selecting previously unselected package cuda-nsight-systems-11-4.\n",
            "Preparing to unpack .../44-cuda-nsight-systems-11-4_11.4.2-1_amd64.deb ...\n",
            "Unpacking cuda-nsight-systems-11-4 (11.4.2-1) ...\n",
            "Selecting previously unselected package cuda-nsight-11-4.\n",
            "Preparing to unpack .../45-cuda-nsight-11-4_11.4.120-1_amd64.deb ...\n",
            "Unpacking cuda-nsight-11-4 (11.4.120-1) ...\n",
            "Selecting previously unselected package cuda-nvml-dev-11-4.\n",
            "Preparing to unpack .../46-cuda-nvml-dev-11-4_11.4.120-1_amd64.deb ...\n",
            "Unpacking cuda-nvml-dev-11-4 (11.4.120-1) ...\n",
            "Selecting previously unselected package cuda-nvvp-11-4.\n",
            "Preparing to unpack .../47-cuda-nvvp-11-4_11.4.120-1_amd64.deb ...\n",
            "Unpacking cuda-nvvp-11-4 (11.4.120-1) ...\n",
            "Selecting previously unselected package cuda-visual-tools-11-4.\n",
            "Preparing to unpack .../48-cuda-visual-tools-11-4_11.4.2-1_amd64.deb ...\n",
            "Unpacking cuda-visual-tools-11-4 (11.4.2-1) ...\n",
            "Selecting previously unselected package gds-tools-11-4.\n",
            "Preparing to unpack .../49-gds-tools-11-4_1.0.2.10-1_amd64.deb ...\n",
            "Unpacking gds-tools-11-4 (1.0.2.10-1) ...\n",
            "Selecting previously unselected package cuda-tools-11-4.\n",
            "Preparing to unpack .../50-cuda-tools-11-4_11.4.2-1_amd64.deb ...\n",
            "Unpacking cuda-tools-11-4 (11.4.2-1) ...\n",
            "Selecting previously unselected package cuda-samples-11-4.\n",
            "Preparing to unpack .../51-cuda-samples-11-4_11.4.120-1_amd64.deb ...\n",
            "Unpacking cuda-samples-11-4 (11.4.120-1) ...\n",
            "Selecting previously unselected package cuda-documentation-11-4.\n",
            "Preparing to unpack .../52-cuda-documentation-11-4_11.4.126-1_amd64.deb ...\n",
            "Unpacking cuda-documentation-11-4 (11.4.126-1) ...\n",
            "Selecting previously unselected package cuda-toolkit-11-4.\n",
            "Preparing to unpack .../53-cuda-toolkit-11-4_11.4.2-1_amd64.deb ...\n",
            "Unpacking cuda-toolkit-11-4 (11.4.2-1) ...\n",
            "Selecting previously unselected package cuda-demo-suite-11-4.\n",
            "Preparing to unpack .../54-cuda-demo-suite-11-4_11.4.100-1_amd64.deb ...\n",
            "Unpacking cuda-demo-suite-11-4 (11.4.100-1) ...\n",
            "Selecting previously unselected package cuda-11-4.\n",
            "Preparing to unpack .../55-cuda-11-4_11.4.2-1_amd64.deb ...\n",
            "Unpacking cuda-11-4 (11.4.2-1) ...\n",
            "Selecting previously unselected package cuda.\n",
            "Preparing to unpack .../56-cuda_11.4.2-1_amd64.deb ...\n",
            "Unpacking cuda (11.4.2-1) ...\n",
            "Setting up cuda-cuobjdump-11-4 (11.4.120-1) ...\n",
            "Setting up cuda-nvvp-11-4 (11.4.120-1) ...\n",
            "Setting up cuda-toolkit-config-common (11.4.108-1) ...\n",
            "Setting up cuda-nvml-dev-11-4 (11.4.120-1) ...\n",
            "Setting up cuda-nsight-systems-11-4 (11.4.2-1) ...\n",
            "Setting up cuda-memcheck-11-4 (11.4.120-1) ...\n",
            "Setting up cuda-nvprune-11-4 (11.4.120-1) ...\n",
            "Setting up cuda-nsight-compute-11-4 (11.4.2-1) ...\n",
            "Setting up cuda-cuxxfilt-11-4 (11.4.120-1) ...\n",
            "Setting up gds-tools-11-4 (1.0.2.10-1) ...\n",
            "Setting up cuda-toolkit-11-config-common (11.4.108-1) ...\n",
            "Setting up cuda-sanitizer-11-4 (11.4.120-1) ...\n",
            "Setting up liburcu6:amd64 (0.10.1-1ubuntu1) ...\n",
            "Setting up cuda-cccl-11-4 (11.4.122-1) ...\n",
            "Setting up cuda-nsight-11-4 (11.4.120-1) ...\n",
            "Setting up cuda-toolkit-11-4-config-common (11.4.108-1) ...\n",
            "Setting alternatives\n",
            "update-alternatives: using /usr/local/cuda-11.4 to provide /usr/local/cuda (cuda) in auto mode\n",
            "update-alternatives: using /usr/local/cuda-11.4 to provide /usr/local/cuda-11 (cuda-11) in auto mode\n",
            "Setting up cuda-nvdisasm-11-4 (11.4.120-1) ...\n",
            "Setting up cuda-nvrtc-11-4 (11.4.120-1) ...\n",
            "Setting up cuda-driver-dev-11-4 (11.4.108-1) ...\n",
            "Setting up cuda-nvprof-11-4 (11.4.120-1) ...\n",
            "Setting up cuda-nvtx-11-4 (11.4.120-1) ...\n",
            "Setting up libnpp-11-4 (11.4.0.110-1) ...\n",
            "Setting up cuda-gdb-11-4 (11.4.120-1) ...\n",
            "Setting up libcurand-11-4 (10.2.5.120-1) ...\n",
            "Setting up libcurand-dev-11-4 (10.2.5.120-1) ...\n",
            "Setting up libnvjpeg-11-4 (11.5.2.120-1) ...\n",
            "Setting up cuda-cudart-11-4 (11.4.108-1) ...\n",
            "Setting up cuda-cudart-dev-11-4 (11.4.108-1) ...\n",
            "Setting up libcufft-11-4 (10.5.2.100-1) ...\n",
            "Setting up cuda-nvrtc-dev-11-4 (11.4.120-1) ...\n",
            "Setting up libcusparse-11-4 (11.6.0.120-1) ...\n",
            "Setting up libcublas-11-4 (11.6.1.51-1) ...\n",
            "Setting up libcufile-11-4 (1.0.2.10-1) ...\n",
            "Setting up libcusolver-11-4 (11.2.0.120-1) ...\n",
            "Setting up cuda-nvcc-11-4 (11.4.120-1) ...\n",
            "Setting up libcusolver-dev-11-4 (11.2.0.120-1) ...\n",
            "Setting up cuda-compiler-11-4 (11.4.2-1) ...\n",
            "Setting up libcufile-dev-11-4 (1.0.2.10-1) ...\n",
            "Setting up libnpp-dev-11-4 (11.4.0.110-1) ...\n",
            "Setting up libnvjpeg-dev-11-4 (11.5.2.120-1) ...\n",
            "Setting up libcublas-dev-11-4 (11.6.1.51-1) ...\n",
            "Setting up cuda-cupti-11-4 (11.4.120-1) ...\n",
            "Setting up libcufft-dev-11-4 (10.5.2.100-1) ...\n",
            "Setting up libcusparse-dev-11-4 (11.6.0.120-1) ...\n",
            "Setting up cuda-libraries-11-4 (11.4.2-1) ...\n",
            "Setting up cuda-libraries-dev-11-4 (11.4.2-1) ...\n",
            "Setting up cuda-runtime-11-4 (11.4.2-1) ...\n",
            "Setting up cuda-visual-tools-11-4 (11.4.2-1) ...\n",
            "Setting up cuda-cupti-dev-11-4 (11.4.120-1) ...\n",
            "Setting up cuda-demo-suite-11-4 (11.4.100-1) ...\n",
            "Setting up cuda-samples-11-4 (11.4.120-1) ...\n",
            "Setting up cuda-command-line-tools-11-4 (11.4.2-1) ...\n",
            "Setting up cuda-tools-11-4 (11.4.2-1) ...\n",
            "Setting up cuda-documentation-11-4 (11.4.126-1) ...\n",
            "Setting up cuda-toolkit-11-4 (11.4.2-1) ...\n",
            "Setting alternatives\n",
            "Setting up cuda-11-4 (11.4.2-1) ...\n",
            "Setting up cuda (11.4.2-1) ...\n",
            "Processing triggers for libc-bin (2.27-3ubuntu1.3) ...\n",
            "/sbin/ldconfig.real: /usr/local/lib/python3.7/dist-packages/ideep4py/lib/libmkldnn.so.0 is not a symbolic link\n",
            "\n",
            "W: Target Packages (Packages) is configured multiple times in /etc/apt/sources.list:51 and /etc/apt/sources.list.d/cuda.list:1\n"
          ]
        }
      ]
    },
    {
      "cell_type": "markdown",
      "metadata": {
        "id": "wUPTfx3Qw_Ha"
      },
      "source": [
        "Verify kuda installation"
      ]
    },
    {
      "cell_type": "code",
      "metadata": {
        "colab": {
          "base_uri": "https://localhost:8080/"
        },
        "id": "SM2CdcEiOuFB",
        "outputId": "1325c8c8-dedf-4f0e-d115-08664d417280"
      },
      "source": [
        "!nvidia-smi"
      ],
      "execution_count": null,
      "outputs": [
        {
          "output_type": "stream",
          "name": "stdout",
          "text": [
            "Sun Oct  3 14:07:40 2021       \n",
            "+-----------------------------------------------------------------------------+\n",
            "| NVIDIA-SMI 470.74       Driver Version: 460.32.03    CUDA Version: 11.2     |\n",
            "|-------------------------------+----------------------+----------------------+\n",
            "| GPU  Name        Persistence-M| Bus-Id        Disp.A | Volatile Uncorr. ECC |\n",
            "| Fan  Temp  Perf  Pwr:Usage/Cap|         Memory-Usage | GPU-Util  Compute M. |\n",
            "|                               |                      |               MIG M. |\n",
            "|===============================+======================+======================|\n",
            "|   0  Tesla K80           Off  | 00000000:00:04.0 Off |                    0 |\n",
            "| N/A   39C    P8    28W / 149W |      0MiB / 11441MiB |      0%      Default |\n",
            "|                               |                      |                  N/A |\n",
            "+-------------------------------+----------------------+----------------------+\n",
            "                                                                               \n",
            "+-----------------------------------------------------------------------------+\n",
            "| Processes:                                                                  |\n",
            "|  GPU   GI   CI        PID   Type   Process name                  GPU Memory |\n",
            "|        ID   ID                                                   Usage      |\n",
            "|=============================================================================|\n",
            "|  No running processes found                                                 |\n",
            "+-----------------------------------------------------------------------------+\n"
          ]
        }
      ]
    },
    {
      "cell_type": "markdown",
      "metadata": {
        "id": "mqyiK4_qxEy7"
      },
      "source": [
        "Install Docker CE and nvidia-docker2 on the host computer"
      ]
    },
    {
      "cell_type": "code",
      "metadata": {
        "colab": {
          "base_uri": "https://localhost:8080/"
        },
        "id": "Vvwe4SW4xTb4",
        "outputId": "1f99f0a6-fe3d-489a-e424-b9fdbc5101f4"
      },
      "source": [
        "!sudo apt-get update"
      ],
      "execution_count": null,
      "outputs": [
        {
          "output_type": "stream",
          "name": "stdout",
          "text": [
            "\r0% [Working]\r            \rGet:1 http://security.ubuntu.com/ubuntu bionic-security InRelease [88.7 kB]\n",
            "\r0% [Connecting to archive.ubuntu.com (91.189.88.152)] [1 InRelease 14.2 kB/88.7\r                                                                               \rHit:2 https://cloud.r-project.org/bin/linux/ubuntu bionic-cran40/ InRelease\n",
            "Ign:3 https://developer.download.nvidia.com/compute/cuda/repos/ubuntu1804/x86_64  InRelease\n",
            "Hit:4 https://packages.microsoft.com/repos/azure-cli bionic InRelease\n",
            "Ign:5 https://developer.download.nvidia.com/compute/machine-learning/repos/ubuntu1804/x86_64  InRelease\n",
            "Hit:6 http://ppa.launchpad.net/c2d4u.team/c2d4u4.0+/ubuntu bionic InRelease\n",
            "Hit:7 https://packages.microsoft.com/ubuntu/18.04/multiarch/prod bionic InRelease\n",
            "Hit:8 https://developer.download.nvidia.com/compute/cuda/repos/ubuntu1804/x86_64  Release\n",
            "Hit:9 https://developer.download.nvidia.com/compute/machine-learning/repos/ubuntu1804/x86_64  Release\n",
            "Hit:10 http://archive.ubuntu.com/ubuntu bionic InRelease\n",
            "Get:11 http://archive.ubuntu.com/ubuntu bionic-updates InRelease [88.7 kB]\n",
            "Hit:12 http://ppa.launchpad.net/cran/libgit2/ubuntu bionic InRelease\n",
            "Hit:13 http://ppa.launchpad.net/deadsnakes/ppa/ubuntu bionic InRelease\n",
            "Get:15 http://archive.ubuntu.com/ubuntu bionic-backports InRelease [74.6 kB]\n",
            "Hit:17 http://ppa.launchpad.net/graphics-drivers/ppa/ubuntu bionic InRelease\n",
            "Fetched 252 kB in 1s (185 kB/s)\n",
            "Reading package lists... Done\n"
          ]
        }
      ]
    },
    {
      "cell_type": "code",
      "metadata": {
        "colab": {
          "base_uri": "https://localhost:8080/"
        },
        "id": "Lshv8j69xmiN",
        "outputId": "d9528d88-0508-498a-97d2-1025d30abab2"
      },
      "source": [
        "!sudo apt install apt-transport-https ca-certificates curl software-properties-common\n",
        "!curl -fsSL https://download.docker.com/linux/ubuntu/gpg | sudo apt-key add -\n",
        "!sudo add-apt-repository \"deb [arch=amd64] https://download.docker.com/linux/ubuntu `lsb_release -cs` test\"\n",
        "!sudo apt update\n",
        "!sudo apt-get install -y docker-ce docker-ce-cli containerd.io"
      ],
      "execution_count": null,
      "outputs": [
        {
          "output_type": "stream",
          "name": "stdout",
          "text": [
            "Reading package lists... Done\n",
            "Building dependency tree       \n",
            "Reading state information... Done\n",
            "ca-certificates is already the newest version (20210119~18.04.2).\n",
            "curl is already the newest version (7.58.0-2ubuntu3.16).\n",
            "software-properties-common is already the newest version (0.96.24.32.14).\n",
            "apt-transport-https is already the newest version (1.6.14).\n",
            "0 upgraded, 0 newly installed, 0 to remove and 38 not upgraded.\n",
            "1 not fully installed or removed.\n",
            "After this operation, 0 B of additional disk space will be used.\n",
            "Setting up libiothsm-std (1.0.9.5-1) ...\n",
            "OK\n",
            "Get:1 http://security.ubuntu.com/ubuntu bionic-security InRelease [88.7 kB]\n",
            "Hit:2 https://cloud.r-project.org/bin/linux/ubuntu bionic-cran40/ InRelease\n",
            "Get:3 https://download.docker.com/linux/ubuntu bionic InRelease [64.4 kB]\n",
            "Ign:4 https://developer.download.nvidia.com/compute/cuda/repos/ubuntu1804/x86_64  InRelease\n",
            "Hit:5 https://packages.microsoft.com/repos/azure-cli bionic InRelease\n",
            "Hit:6 http://ppa.launchpad.net/c2d4u.team/c2d4u4.0+/ubuntu bionic InRelease\n",
            "Ign:7 https://developer.download.nvidia.com/compute/machine-learning/repos/ubuntu1804/x86_64  InRelease\n",
            "Hit:8 https://packages.microsoft.com/ubuntu/18.04/multiarch/prod bionic InRelease\n",
            "Hit:9 https://developer.download.nvidia.com/compute/cuda/repos/ubuntu1804/x86_64  Release\n",
            "Hit:10 https://developer.download.nvidia.com/compute/machine-learning/repos/ubuntu1804/x86_64  Release\n",
            "Hit:11 http://archive.ubuntu.com/ubuntu bionic InRelease\n",
            "Hit:12 http://ppa.launchpad.net/cran/libgit2/ubuntu bionic InRelease\n",
            "Get:13 https://download.docker.com/linux/ubuntu bionic/test amd64 Packages [41.5 kB]\n",
            "Get:14 http://archive.ubuntu.com/ubuntu bionic-updates InRelease [88.7 kB]\n",
            "Hit:15 http://ppa.launchpad.net/deadsnakes/ppa/ubuntu bionic InRelease\n",
            "Hit:17 http://ppa.launchpad.net/graphics-drivers/ppa/ubuntu bionic InRelease\n",
            "Get:18 http://archive.ubuntu.com/ubuntu bionic-backports InRelease [74.6 kB]\n",
            "Fetched 358 kB in 1s (241 kB/s)\n",
            "Reading package lists... Done\n",
            "Hit:1 https://cloud.r-project.org/bin/linux/ubuntu bionic-cran40/ InRelease\n",
            "Get:2 http://security.ubuntu.com/ubuntu bionic-security InRelease [88.7 kB]\n",
            "Hit:3 https://download.docker.com/linux/ubuntu bionic InRelease\n",
            "Ign:4 https://developer.download.nvidia.com/compute/cuda/repos/ubuntu1804/x86_64  InRelease\n",
            "Hit:5 https://packages.microsoft.com/repos/azure-cli bionic InRelease\n",
            "Hit:6 https://packages.microsoft.com/ubuntu/18.04/multiarch/prod bionic InRelease\n",
            "Hit:7 http://archive.ubuntu.com/ubuntu bionic InRelease\n",
            "Ign:8 https://developer.download.nvidia.com/compute/machine-learning/repos/ubuntu1804/x86_64  InRelease\n",
            "Hit:9 https://developer.download.nvidia.com/compute/cuda/repos/ubuntu1804/x86_64  Release\n",
            "Hit:10 https://developer.download.nvidia.com/compute/machine-learning/repos/ubuntu1804/x86_64  Release\n",
            "Hit:11 http://ppa.launchpad.net/c2d4u.team/c2d4u4.0+/ubuntu bionic InRelease\n",
            "Get:12 http://archive.ubuntu.com/ubuntu bionic-updates InRelease [88.7 kB]\n",
            "Hit:13 http://ppa.launchpad.net/cran/libgit2/ubuntu bionic InRelease\n",
            "Hit:14 http://ppa.launchpad.net/deadsnakes/ppa/ubuntu bionic InRelease\n",
            "Get:15 http://archive.ubuntu.com/ubuntu bionic-backports InRelease [74.6 kB]\n",
            "Hit:18 http://ppa.launchpad.net/graphics-drivers/ppa/ubuntu bionic InRelease\n",
            "Fetched 252 kB in 1s (177 kB/s)\n",
            "Reading package lists... Done\n",
            "Building dependency tree       \n",
            "Reading state information... Done\n",
            "38 packages can be upgraded. Run 'apt list --upgradable' to see them.\n",
            "Reading package lists... Done\n",
            "Building dependency tree       \n",
            "Reading state information... Done\n",
            "The following additional packages will be installed:\n",
            "  apparmor docker-ce-rootless-extras docker-scan-plugin iptables libip6tc0\n",
            "  libiptc0 libmnl0 libnetfilter-conntrack3 libnfnetlink0 libxtables12 pigz\n",
            "Suggested packages:\n",
            "  apparmor-profiles-extra apparmor-utils aufs-tools cgroupfs-mount\n",
            "  | cgroup-lite\n",
            "Recommended packages:\n",
            "  slirp4netns\n",
            "The following NEW packages will be installed:\n",
            "  apparmor containerd.io docker-ce docker-ce-cli docker-ce-rootless-extras\n",
            "  docker-scan-plugin iptables libip6tc0 libiptc0 libmnl0\n",
            "  libnetfilter-conntrack3 libnfnetlink0 libxtables12 pigz\n",
            "0 upgraded, 14 newly installed, 0 to remove and 38 not upgraded.\n",
            "Need to get 96.4 MB of archives.\n",
            "After this operation, 407 MB of additional disk space will be used.\n",
            "Get:1 https://download.docker.com/linux/ubuntu bionic/test amd64 containerd.io amd64 1.4.10-1 [23.7 MB]\n",
            "Get:2 http://archive.ubuntu.com/ubuntu bionic/main amd64 libnfnetlink0 amd64 1.0.1-3 [13.3 kB]\n",
            "Get:3 http://archive.ubuntu.com/ubuntu bionic/universe amd64 pigz amd64 2.4-1 [57.4 kB]\n",
            "Get:4 http://archive.ubuntu.com/ubuntu bionic/main amd64 libmnl0 amd64 1.0.4-2 [12.3 kB]\n",
            "Get:5 http://archive.ubuntu.com/ubuntu bionic/main amd64 libxtables12 amd64 1.6.1-2ubuntu2 [27.9 kB]\n",
            "Get:6 http://archive.ubuntu.com/ubuntu bionic-updates/main amd64 apparmor amd64 2.12-4ubuntu5.1 [487 kB]\n",
            "Get:7 http://archive.ubuntu.com/ubuntu bionic/main amd64 libip6tc0 amd64 1.6.1-2ubuntu2 [19.9 kB]\n",
            "Get:8 http://archive.ubuntu.com/ubuntu bionic/main amd64 libiptc0 amd64 1.6.1-2ubuntu2 [9,308 B]\n",
            "Get:9 http://archive.ubuntu.com/ubuntu bionic/main amd64 libnetfilter-conntrack3 amd64 1.0.6-2 [37.8 kB]\n",
            "Get:10 http://archive.ubuntu.com/ubuntu bionic/main amd64 iptables amd64 1.6.1-2ubuntu2 [269 kB]\n",
            "Get:11 https://download.docker.com/linux/ubuntu bionic/test amd64 docker-ce-cli amd64 5:20.10.8~3-0~ubuntu-bionic [38.8 MB]\n",
            "Get:12 https://download.docker.com/linux/ubuntu bionic/test amd64 docker-ce amd64 5:20.10.8~3-0~ubuntu-bionic [21.2 MB]\n",
            "Get:13 https://download.docker.com/linux/ubuntu bionic/test amd64 docker-ce-rootless-extras amd64 5:20.10.8~3-0~ubuntu-bionic [7,911 kB]\n",
            "Get:14 https://download.docker.com/linux/ubuntu bionic/test amd64 docker-scan-plugin amd64 0.8.0~ubuntu-bionic [3,888 kB]\n",
            "Fetched 96.4 MB in 2s (40.9 MB/s)\n",
            "debconf: unable to initialize frontend: Dialog\n",
            "debconf: (No usable dialog-like program is installed, so the dialog based frontend cannot be used. at /usr/share/perl5/Debconf/FrontEnd/Dialog.pm line 76, <> line 14.)\n",
            "debconf: falling back to frontend: Readline\n",
            "debconf: unable to initialize frontend: Readline\n",
            "debconf: (This frontend requires a controlling tty.)\n",
            "debconf: falling back to frontend: Teletype\n",
            "dpkg-preconfigure: unable to re-open stdin: \n",
            "Selecting previously unselected package libnfnetlink0:amd64.\n",
            "(Reading database ... 208533 files and directories currently installed.)\n",
            "Preparing to unpack .../00-libnfnetlink0_1.0.1-3_amd64.deb ...\n",
            "Unpacking libnfnetlink0:amd64 (1.0.1-3) ...\n",
            "Selecting previously unselected package pigz.\n",
            "Preparing to unpack .../01-pigz_2.4-1_amd64.deb ...\n",
            "Unpacking pigz (2.4-1) ...\n",
            "Selecting previously unselected package libmnl0:amd64.\n",
            "Preparing to unpack .../02-libmnl0_1.0.4-2_amd64.deb ...\n",
            "Unpacking libmnl0:amd64 (1.0.4-2) ...\n",
            "Selecting previously unselected package libxtables12:amd64.\n",
            "Preparing to unpack .../03-libxtables12_1.6.1-2ubuntu2_amd64.deb ...\n",
            "Unpacking libxtables12:amd64 (1.6.1-2ubuntu2) ...\n",
            "Selecting previously unselected package apparmor.\n",
            "Preparing to unpack .../04-apparmor_2.12-4ubuntu5.1_amd64.deb ...\n",
            "Unpacking apparmor (2.12-4ubuntu5.1) ...\n",
            "Selecting previously unselected package libip6tc0:amd64.\n",
            "Preparing to unpack .../05-libip6tc0_1.6.1-2ubuntu2_amd64.deb ...\n",
            "Unpacking libip6tc0:amd64 (1.6.1-2ubuntu2) ...\n",
            "Selecting previously unselected package libiptc0:amd64.\n",
            "Preparing to unpack .../06-libiptc0_1.6.1-2ubuntu2_amd64.deb ...\n",
            "Unpacking libiptc0:amd64 (1.6.1-2ubuntu2) ...\n",
            "Selecting previously unselected package libnetfilter-conntrack3:amd64.\n",
            "Preparing to unpack .../07-libnetfilter-conntrack3_1.0.6-2_amd64.deb ...\n",
            "Unpacking libnetfilter-conntrack3:amd64 (1.0.6-2) ...\n",
            "Selecting previously unselected package iptables.\n",
            "Preparing to unpack .../08-iptables_1.6.1-2ubuntu2_amd64.deb ...\n",
            "Unpacking iptables (1.6.1-2ubuntu2) ...\n",
            "Selecting previously unselected package containerd.io.\n",
            "Preparing to unpack .../09-containerd.io_1.4.10-1_amd64.deb ...\n",
            "Unpacking containerd.io (1.4.10-1) ...\n",
            "Selecting previously unselected package docker-ce-cli.\n",
            "Preparing to unpack .../10-docker-ce-cli_5%3a20.10.8~3-0~ubuntu-bionic_amd64.deb ...\n",
            "Unpacking docker-ce-cli (5:20.10.8~3-0~ubuntu-bionic) ...\n",
            "Selecting previously unselected package docker-ce.\n",
            "Preparing to unpack .../11-docker-ce_5%3a20.10.8~3-0~ubuntu-bionic_amd64.deb ...\n",
            "Unpacking docker-ce (5:20.10.8~3-0~ubuntu-bionic) ...\n",
            "Selecting previously unselected package docker-ce-rootless-extras.\n",
            "Preparing to unpack .../12-docker-ce-rootless-extras_5%3a20.10.8~3-0~ubuntu-bionic_amd64.deb ...\n",
            "Unpacking docker-ce-rootless-extras (5:20.10.8~3-0~ubuntu-bionic) ...\n",
            "Selecting previously unselected package docker-scan-plugin.\n",
            "Preparing to unpack .../13-docker-scan-plugin_0.8.0~ubuntu-bionic_amd64.deb ...\n",
            "Unpacking docker-scan-plugin (0.8.0~ubuntu-bionic) ...\n",
            "Setting up containerd.io (1.4.10-1) ...\n",
            "Created symlink /etc/systemd/system/multi-user.target.wants/containerd.service → /lib/systemd/system/containerd.service.\n",
            "Setting up docker-ce-rootless-extras (5:20.10.8~3-0~ubuntu-bionic) ...\n",
            "Setting up docker-scan-plugin (0.8.0~ubuntu-bionic) ...\n",
            "Setting up libiptc0:amd64 (1.6.1-2ubuntu2) ...\n",
            "Setting up apparmor (2.12-4ubuntu5.1) ...\n",
            "debconf: unable to initialize frontend: Dialog\n",
            "debconf: (No usable dialog-like program is installed, so the dialog based frontend cannot be used. at /usr/share/perl5/Debconf/FrontEnd/Dialog.pm line 76.)\n",
            "debconf: falling back to frontend: Readline\n",
            "Created symlink /etc/systemd/system/sysinit.target.wants/apparmor.service → /lib/systemd/system/apparmor.service.\n",
            "Setting up libxtables12:amd64 (1.6.1-2ubuntu2) ...\n",
            "Setting up libnfnetlink0:amd64 (1.0.1-3) ...\n",
            "Setting up docker-ce-cli (5:20.10.8~3-0~ubuntu-bionic) ...\n",
            "Setting up libmnl0:amd64 (1.0.4-2) ...\n",
            "Setting up pigz (2.4-1) ...\n",
            "Setting up libip6tc0:amd64 (1.6.1-2ubuntu2) ...\n",
            "Setting up libnetfilter-conntrack3:amd64 (1.0.6-2) ...\n",
            "Setting up iptables (1.6.1-2ubuntu2) ...\n",
            "Setting up docker-ce (5:20.10.8~3-0~ubuntu-bionic) ...\n",
            "Created symlink /etc/systemd/system/multi-user.target.wants/docker.service → /lib/systemd/system/docker.service.\n",
            "Created symlink /etc/systemd/system/sockets.target.wants/docker.socket → /lib/systemd/system/docker.socket.\n",
            "invoke-rc.d: could not determine current runlevel\n",
            "invoke-rc.d: policy-rc.d denied execution of start.\n",
            "Processing triggers for systemd (237-3ubuntu10.52) ...\n",
            "Processing triggers for man-db (2.8.3-2ubuntu0.1) ...\n",
            "Processing triggers for libc-bin (2.27-3ubuntu1.3) ...\n",
            "/sbin/ldconfig.real: /usr/local/lib/python3.7/dist-packages/ideep4py/lib/libmkldnn.so.0 is not a symbolic link\n",
            "\n"
          ]
        }
      ]
    },
    {
      "cell_type": "code",
      "metadata": {
        "colab": {
          "base_uri": "https://localhost:8080/"
        },
        "id": "wmK3sY6WPNqd",
        "outputId": "34e7e4cf-5f1d-49cd-a352-c931d2eea777"
      },
      "source": [
        "!apt-get update\n",
        "!apt-get install -y apt-transport-https ca-certificates curl gnupg-agent software-properties-common\n",
        "!curl -fsSL https://download.docker.com/linux/ubuntu/gpg | sudo apt-key add -\n",
        "!add-apt-repository \"deb [arch=amd64] https://download.docker.com/linux/ubuntu $(lsb_release -cs) stable\"\n",
        "!apt-get update\n",
        "!apt-get install -y docker-ce docker-ce-cli containerd.io"
      ],
      "execution_count": null,
      "outputs": [
        {
          "output_type": "stream",
          "name": "stdout",
          "text": [
            "\r0% [Working]\r            \rHit:1 https://cloud.r-project.org/bin/linux/ubuntu bionic-cran40/ InRelease\n",
            "\r0% [Connecting to archive.ubuntu.com (91.189.88.142)] [Waiting for headers] [Wa\r0% [1 InRelease gpgv 3,626 B] [Connecting to archive.ubuntu.com (91.189.88.142)\r                                                                               \rIgn:2 http://developer.download.nvidia.com/compute/cuda/repos/ubuntu1804/x86_64  InRelease\n",
            "\r0% [1 InRelease gpgv 3,626 B] [Connecting to archive.ubuntu.com (91.189.88.142)\r                                                                               \rHit:3 http://developer.download.nvidia.com/compute/cuda/repos/ubuntu1804/x86_64  Release\n",
            "\r0% [1 InRelease gpgv 3,626 B] [Connecting to archive.ubuntu.com (91.189.88.142)\r                                                                               \rGet:4 http://security.ubuntu.com/ubuntu bionic-security InRelease [88.7 kB]\n",
            "\r0% [1 InRelease gpgv 3,626 B] [Waiting for headers] [4 InRelease 14.2 kB/88.7 k\r                                                                               \rIgn:5 https://developer.download.nvidia.com/compute/machine-learning/repos/ubuntu1804/x86_64  InRelease\n",
            "Hit:6 https://developer.download.nvidia.com/compute/machine-learning/repos/ubuntu1804/x86_64  Release\n",
            "Hit:7 http://ppa.launchpad.net/c2d4u.team/c2d4u4.0+/ubuntu bionic InRelease\n",
            "Hit:8 http://ppa.launchpad.net/cran/libgit2/ubuntu bionic InRelease\n",
            "Hit:10 http://archive.ubuntu.com/ubuntu bionic InRelease\n",
            "Hit:11 http://ppa.launchpad.net/deadsnakes/ppa/ubuntu bionic InRelease\n",
            "Hit:12 http://archive.ubuntu.com/ubuntu bionic-updates InRelease\n",
            "Hit:14 http://archive.ubuntu.com/ubuntu bionic-backports InRelease\n",
            "Hit:15 http://ppa.launchpad.net/graphics-drivers/ppa/ubuntu bionic InRelease\n",
            "Fetched 88.7 kB in 2s (42.4 kB/s)\n",
            "Reading package lists... Done\n",
            "W: Target Packages (Packages) is configured multiple times in /etc/apt/sources.list:51 and /etc/apt/sources.list.d/cuda.list:1\n",
            "W: Target Packages (Packages) is configured multiple times in /etc/apt/sources.list:51 and /etc/apt/sources.list.d/cuda.list:1\n",
            "Reading package lists... Done\n",
            "Building dependency tree       \n",
            "Reading state information... Done\n",
            "ca-certificates is already the newest version (20210119~18.04.2).\n",
            "curl is already the newest version (7.58.0-2ubuntu3.16).\n",
            "software-properties-common is already the newest version (0.96.24.32.14).\n",
            "The following NEW packages will be installed:\n",
            "  apt-transport-https gnupg-agent\n",
            "0 upgraded, 2 newly installed, 0 to remove and 37 not upgraded.\n",
            "Need to get 9,212 B of archives.\n",
            "After this operation, 197 kB of additional disk space will be used.\n",
            "Get:1 http://archive.ubuntu.com/ubuntu bionic-updates/universe amd64 apt-transport-https all 1.6.14 [4,348 B]\n",
            "Get:2 http://archive.ubuntu.com/ubuntu bionic-updates/universe amd64 gnupg-agent all 2.2.4-1ubuntu1.4 [4,864 B]\n",
            "Fetched 9,212 B in 0s (23.7 kB/s)\n",
            "W: Target Packages (Packages) is configured multiple times in /etc/apt/sources.list:51 and /etc/apt/sources.list.d/cuda.list:1\n",
            "Selecting previously unselected package apt-transport-https.\n",
            "(Reading database ... 161606 files and directories currently installed.)\n",
            "Preparing to unpack .../apt-transport-https_1.6.14_all.deb ...\n",
            "Unpacking apt-transport-https (1.6.14) ...\n",
            "Selecting previously unselected package gnupg-agent.\n",
            "Preparing to unpack .../gnupg-agent_2.2.4-1ubuntu1.4_all.deb ...\n",
            "Unpacking gnupg-agent (2.2.4-1ubuntu1.4) ...\n",
            "Setting up apt-transport-https (1.6.14) ...\n",
            "Setting up gnupg-agent (2.2.4-1ubuntu1.4) ...\n",
            "W: Target Packages (Packages) is configured multiple times in /etc/apt/sources.list:51 and /etc/apt/sources.list.d/cuda.list:1\n",
            "OK\n",
            "Get:1 https://download.docker.com/linux/ubuntu bionic InRelease [64.4 kB]\n",
            "Get:2 http://security.ubuntu.com/ubuntu bionic-security InRelease [88.7 kB]\n",
            "Hit:3 https://cloud.r-project.org/bin/linux/ubuntu bionic-cran40/ InRelease\n",
            "Ign:4 http://developer.download.nvidia.com/compute/cuda/repos/ubuntu1804/x86_64  InRelease\n",
            "Hit:5 http://developer.download.nvidia.com/compute/cuda/repos/ubuntu1804/x86_64  Release\n",
            "Ign:6 https://developer.download.nvidia.com/compute/machine-learning/repos/ubuntu1804/x86_64  InRelease\n",
            "Hit:7 https://developer.download.nvidia.com/compute/machine-learning/repos/ubuntu1804/x86_64  Release\n",
            "Hit:8 http://archive.ubuntu.com/ubuntu bionic InRelease\n",
            "Hit:9 http://ppa.launchpad.net/c2d4u.team/c2d4u4.0+/ubuntu bionic InRelease\n",
            "Hit:10 http://archive.ubuntu.com/ubuntu bionic-updates InRelease\n",
            "Hit:11 http://archive.ubuntu.com/ubuntu bionic-backports InRelease\n",
            "Get:12 https://download.docker.com/linux/ubuntu bionic/stable amd64 Packages [22.6 kB]\n",
            "Hit:13 http://ppa.launchpad.net/cran/libgit2/ubuntu bionic InRelease\n",
            "Hit:15 http://ppa.launchpad.net/deadsnakes/ppa/ubuntu bionic InRelease\n",
            "Hit:17 http://ppa.launchpad.net/graphics-drivers/ppa/ubuntu bionic InRelease\n",
            "Fetched 176 kB in 2s (75.9 kB/s)\n",
            "Reading package lists... Done\n",
            "W: Target Packages (Packages) is configured multiple times in /etc/apt/sources.list:51 and /etc/apt/sources.list.d/cuda.list:1\n",
            "W: Target Packages (Packages) is configured multiple times in /etc/apt/sources.list:51 and /etc/apt/sources.list.d/cuda.list:1\n",
            "Hit:1 https://cloud.r-project.org/bin/linux/ubuntu bionic-cran40/ InRelease\n",
            "Hit:2 https://download.docker.com/linux/ubuntu bionic InRelease\n",
            "Ign:3 http://developer.download.nvidia.com/compute/cuda/repos/ubuntu1804/x86_64  InRelease\n",
            "Hit:4 http://developer.download.nvidia.com/compute/cuda/repos/ubuntu1804/x86_64  Release\n",
            "Get:5 http://security.ubuntu.com/ubuntu bionic-security InRelease [88.7 kB]\n",
            "Ign:6 https://developer.download.nvidia.com/compute/machine-learning/repos/ubuntu1804/x86_64  InRelease\n",
            "Hit:7 https://developer.download.nvidia.com/compute/machine-learning/repos/ubuntu1804/x86_64  Release\n",
            "Hit:8 http://ppa.launchpad.net/c2d4u.team/c2d4u4.0+/ubuntu bionic InRelease\n",
            "Hit:9 http://archive.ubuntu.com/ubuntu bionic InRelease\n",
            "Hit:10 http://archive.ubuntu.com/ubuntu bionic-updates InRelease\n",
            "Hit:11 http://ppa.launchpad.net/cran/libgit2/ubuntu bionic InRelease\n",
            "Hit:12 http://archive.ubuntu.com/ubuntu bionic-backports InRelease\n",
            "Hit:13 http://ppa.launchpad.net/deadsnakes/ppa/ubuntu bionic InRelease\n",
            "Hit:16 http://ppa.launchpad.net/graphics-drivers/ppa/ubuntu bionic InRelease\n",
            "Fetched 88.7 kB in 2s (38.6 kB/s)\n",
            "Reading package lists... Done\n",
            "W: Target Packages (Packages) is configured multiple times in /etc/apt/sources.list:51 and /etc/apt/sources.list.d/cuda.list:1\n",
            "W: Target Packages (Packages) is configured multiple times in /etc/apt/sources.list:51 and /etc/apt/sources.list.d/cuda.list:1\n",
            "Reading package lists... Done\n",
            "Building dependency tree       \n",
            "Reading state information... Done\n",
            "The following additional packages will be installed:\n",
            "  apparmor docker-ce-rootless-extras docker-scan-plugin iptables libip6tc0\n",
            "  libiptc0 libmnl0 libnetfilter-conntrack3 libnfnetlink0 libxtables12 pigz\n",
            "Suggested packages:\n",
            "  apparmor-profiles-extra apparmor-utils aufs-tools cgroupfs-mount\n",
            "  | cgroup-lite\n",
            "Recommended packages:\n",
            "  slirp4netns\n",
            "The following NEW packages will be installed:\n",
            "  apparmor containerd.io docker-ce docker-ce-cli docker-ce-rootless-extras\n",
            "  docker-scan-plugin iptables libip6tc0 libiptc0 libmnl0\n",
            "  libnetfilter-conntrack3 libnfnetlink0 libxtables12 pigz\n",
            "0 upgraded, 14 newly installed, 0 to remove and 37 not upgraded.\n",
            "Need to get 96.4 MB of archives.\n",
            "After this operation, 407 MB of additional disk space will be used.\n",
            "Get:1 https://download.docker.com/linux/ubuntu bionic/stable amd64 containerd.io amd64 1.4.10-1 [23.7 MB]\n",
            "Get:2 http://archive.ubuntu.com/ubuntu bionic/main amd64 libnfnetlink0 amd64 1.0.1-3 [13.3 kB]\n",
            "Get:3 http://archive.ubuntu.com/ubuntu bionic/universe amd64 pigz amd64 2.4-1 [57.4 kB]\n",
            "Get:4 https://download.docker.com/linux/ubuntu bionic/stable amd64 docker-ce-cli amd64 5:20.10.8~3-0~ubuntu-bionic [38.8 MB]\n",
            "Get:5 http://archive.ubuntu.com/ubuntu bionic/main amd64 libmnl0 amd64 1.0.4-2 [12.3 kB]\n",
            "Get:6 http://archive.ubuntu.com/ubuntu bionic/main amd64 libxtables12 amd64 1.6.1-2ubuntu2 [27.9 kB]\n",
            "Get:7 http://archive.ubuntu.com/ubuntu bionic-updates/main amd64 apparmor amd64 2.12-4ubuntu5.1 [487 kB]\n",
            "Get:8 http://archive.ubuntu.com/ubuntu bionic/main amd64 libip6tc0 amd64 1.6.1-2ubuntu2 [19.9 kB]\n",
            "Get:9 http://archive.ubuntu.com/ubuntu bionic/main amd64 libiptc0 amd64 1.6.1-2ubuntu2 [9,308 B]\n",
            "Get:10 http://archive.ubuntu.com/ubuntu bionic/main amd64 libnetfilter-conntrack3 amd64 1.0.6-2 [37.8 kB]\n",
            "Get:11 http://archive.ubuntu.com/ubuntu bionic/main amd64 iptables amd64 1.6.1-2ubuntu2 [269 kB]\n",
            "Get:12 https://download.docker.com/linux/ubuntu bionic/stable amd64 docker-ce amd64 5:20.10.8~3-0~ubuntu-bionic [21.2 MB]\n",
            "Get:13 https://download.docker.com/linux/ubuntu bionic/stable amd64 docker-ce-rootless-extras amd64 5:20.10.8~3-0~ubuntu-bionic [7,911 kB]\n",
            "Get:14 https://download.docker.com/linux/ubuntu bionic/stable amd64 docker-scan-plugin amd64 0.8.0~ubuntu-bionic [3,888 kB]\n",
            "Fetched 96.4 MB in 2s (45.0 MB/s)\n",
            "W: Target Packages (Packages) is configured multiple times in /etc/apt/sources.list:51 and /etc/apt/sources.list.d/cuda.list:1\n",
            "Preconfiguring packages ...\n",
            "Selecting previously unselected package libnfnetlink0:amd64.\n",
            "(Reading database ... 161614 files and directories currently installed.)\n",
            "Preparing to unpack .../00-libnfnetlink0_1.0.1-3_amd64.deb ...\n",
            "Unpacking libnfnetlink0:amd64 (1.0.1-3) ...\n",
            "Selecting previously unselected package pigz.\n",
            "Preparing to unpack .../01-pigz_2.4-1_amd64.deb ...\n",
            "Unpacking pigz (2.4-1) ...\n",
            "Selecting previously unselected package libmnl0:amd64.\n",
            "Preparing to unpack .../02-libmnl0_1.0.4-2_amd64.deb ...\n",
            "Unpacking libmnl0:amd64 (1.0.4-2) ...\n",
            "Selecting previously unselected package libxtables12:amd64.\n",
            "Preparing to unpack .../03-libxtables12_1.6.1-2ubuntu2_amd64.deb ...\n",
            "Unpacking libxtables12:amd64 (1.6.1-2ubuntu2) ...\n",
            "Selecting previously unselected package apparmor.\n",
            "Preparing to unpack .../04-apparmor_2.12-4ubuntu5.1_amd64.deb ...\n",
            "Unpacking apparmor (2.12-4ubuntu5.1) ...\n",
            "Selecting previously unselected package libip6tc0:amd64.\n",
            "Preparing to unpack .../05-libip6tc0_1.6.1-2ubuntu2_amd64.deb ...\n",
            "Unpacking libip6tc0:amd64 (1.6.1-2ubuntu2) ...\n",
            "Selecting previously unselected package libiptc0:amd64.\n",
            "Preparing to unpack .../06-libiptc0_1.6.1-2ubuntu2_amd64.deb ...\n",
            "Unpacking libiptc0:amd64 (1.6.1-2ubuntu2) ...\n",
            "Selecting previously unselected package libnetfilter-conntrack3:amd64.\n",
            "Preparing to unpack .../07-libnetfilter-conntrack3_1.0.6-2_amd64.deb ...\n",
            "Unpacking libnetfilter-conntrack3:amd64 (1.0.6-2) ...\n",
            "Selecting previously unselected package iptables.\n",
            "Preparing to unpack .../08-iptables_1.6.1-2ubuntu2_amd64.deb ...\n",
            "Unpacking iptables (1.6.1-2ubuntu2) ...\n",
            "Selecting previously unselected package containerd.io.\n",
            "Preparing to unpack .../09-containerd.io_1.4.10-1_amd64.deb ...\n",
            "Unpacking containerd.io (1.4.10-1) ...\n",
            "Selecting previously unselected package docker-ce-cli.\n",
            "Preparing to unpack .../10-docker-ce-cli_5%3a20.10.8~3-0~ubuntu-bionic_amd64.deb ...\n",
            "Unpacking docker-ce-cli (5:20.10.8~3-0~ubuntu-bionic) ...\n",
            "Selecting previously unselected package docker-ce.\n",
            "Preparing to unpack .../11-docker-ce_5%3a20.10.8~3-0~ubuntu-bionic_amd64.deb ...\n",
            "Unpacking docker-ce (5:20.10.8~3-0~ubuntu-bionic) ...\n",
            "Selecting previously unselected package docker-ce-rootless-extras.\n",
            "Preparing to unpack .../12-docker-ce-rootless-extras_5%3a20.10.8~3-0~ubuntu-bionic_amd64.deb ...\n",
            "Unpacking docker-ce-rootless-extras (5:20.10.8~3-0~ubuntu-bionic) ...\n",
            "Selecting previously unselected package docker-scan-plugin.\n",
            "Preparing to unpack .../13-docker-scan-plugin_0.8.0~ubuntu-bionic_amd64.deb ...\n",
            "Unpacking docker-scan-plugin (0.8.0~ubuntu-bionic) ...\n",
            "Setting up containerd.io (1.4.10-1) ...\n",
            "Created symlink /etc/systemd/system/multi-user.target.wants/containerd.service → /lib/systemd/system/containerd.service.\n",
            "Setting up docker-ce-rootless-extras (5:20.10.8~3-0~ubuntu-bionic) ...\n",
            "Setting up docker-scan-plugin (0.8.0~ubuntu-bionic) ...\n",
            "Setting up libiptc0:amd64 (1.6.1-2ubuntu2) ...\n",
            "Setting up apparmor (2.12-4ubuntu5.1) ...\n",
            "Created symlink /etc/systemd/system/sysinit.target.wants/apparmor.service → /lib/systemd/system/apparmor.service.\n",
            "Setting up libxtables12:amd64 (1.6.1-2ubuntu2) ...\n",
            "Setting up libnfnetlink0:amd64 (1.0.1-3) ...\n",
            "Setting up docker-ce-cli (5:20.10.8~3-0~ubuntu-bionic) ...\n",
            "Setting up libmnl0:amd64 (1.0.4-2) ...\n",
            "Setting up pigz (2.4-1) ...\n",
            "Setting up libip6tc0:amd64 (1.6.1-2ubuntu2) ...\n",
            "Setting up libnetfilter-conntrack3:amd64 (1.0.6-2) ...\n",
            "Setting up iptables (1.6.1-2ubuntu2) ...\n",
            "Setting up docker-ce (5:20.10.8~3-0~ubuntu-bionic) ...\n",
            "Created symlink /etc/systemd/system/multi-user.target.wants/docker.service → /lib/systemd/system/docker.service.\n",
            "Created symlink /etc/systemd/system/sockets.target.wants/docker.socket → /lib/systemd/system/docker.socket.\n",
            "invoke-rc.d: could not determine current runlevel\n",
            "invoke-rc.d: policy-rc.d denied execution of start.\n",
            "Processing triggers for systemd (237-3ubuntu10.52) ...\n",
            "Processing triggers for man-db (2.8.3-2ubuntu0.1) ...\n",
            "Processing triggers for libc-bin (2.27-3ubuntu1.3) ...\n",
            "/sbin/ldconfig.real: /usr/local/lib/python3.7/dist-packages/ideep4py/lib/libmkldnn.so.0 is not a symbolic link\n",
            "\n",
            "W: Target Packages (Packages) is configured multiple times in /etc/apt/sources.list:51 and /etc/apt/sources.list.d/cuda.list:1\n"
          ]
        }
      ]
    },
    {
      "cell_type": "code",
      "metadata": {
        "colab": {
          "base_uri": "https://localhost:8080/"
        },
        "id": "OxPpCJ1uPnDF",
        "outputId": "74ae0772-76bc-45bf-9807-3101e55bd703"
      },
      "source": [
        "!distribution=$(. /etc/os-release;echo $ID$VERSION_ID)\n",
        "!curl -s -L https://nvidia.github.io/nvidia-docker/gpgkey | sudo apt-key add -\n",
        "!curl -s -L https://nvidia.github.io/nvidia-docker/$distribution/nvidia-docker.list | sudo tee /etc/apt/sources.list.d/nvidia-docker.list\n",
        "!apt-get update\n",
        "!apt-get install -y docker-ce nvidia-docker2\n",
        "!service  docker restart"
      ],
      "execution_count": null,
      "outputs": [
        {
          "output_type": "stream",
          "name": "stdout",
          "text": [
            "OK\n",
            "# Unsupported distribution!\n",
            "# Check https://nvidia.github.io/nvidia-docker\n",
            "Get:1 http://security.ubuntu.com/ubuntu bionic-security InRelease [88.7 kB]\n",
            "Hit:2 https://download.docker.com/linux/ubuntu bionic InRelease\n",
            "Ign:3 https://developer.download.nvidia.com/compute/cuda/repos/ubuntu1804/x86_64  InRelease\n",
            "Hit:4 https://packages.microsoft.com/repos/azure-cli bionic InRelease\n",
            "Ign:5 https://developer.download.nvidia.com/compute/machine-learning/repos/ubuntu1804/x86_64  InRelease\n",
            "Hit:6 https://packages.microsoft.com/ubuntu/18.04/multiarch/prod bionic InRelease\n",
            "Hit:7 https://developer.download.nvidia.com/compute/cuda/repos/ubuntu1804/x86_64  Release\n",
            "Hit:8 https://developer.download.nvidia.com/compute/machine-learning/repos/ubuntu1804/x86_64  Release\n",
            "Hit:9 http://archive.ubuntu.com/ubuntu bionic InRelease\n",
            "Hit:10 http://ppa.launchpad.net/c2d4u.team/c2d4u4.0+/ubuntu bionic InRelease\n",
            "Hit:11 https://cloud.r-project.org/bin/linux/ubuntu bionic-cran40/ InRelease\n",
            "Get:12 http://archive.ubuntu.com/ubuntu bionic-updates InRelease [88.7 kB]\n",
            "Hit:13 http://ppa.launchpad.net/cran/libgit2/ubuntu bionic InRelease\n",
            "Hit:14 http://ppa.launchpad.net/deadsnakes/ppa/ubuntu bionic InRelease\n",
            "Get:15 http://archive.ubuntu.com/ubuntu bionic-backports InRelease [74.6 kB]\n",
            "Hit:16 http://ppa.launchpad.net/graphics-drivers/ppa/ubuntu bionic InRelease\n",
            "Fetched 252 kB in 3s (89.9 kB/s)\n",
            "Reading package lists... Done\n",
            "Reading package lists... Done\n",
            "Building dependency tree       \n",
            "Reading state information... Done\n",
            "E: Unable to locate package nvidia-docker2\n",
            "System has not been booted with systemd as init system (PID 1). Can't operate.\n"
          ]
        }
      ]
    },
    {
      "cell_type": "code",
      "metadata": {
        "id": "NfgKDWLrzR7A"
      },
      "source": [
        "!service  docker restart"
      ],
      "execution_count": null,
      "outputs": []
    },
    {
      "cell_type": "code",
      "metadata": {
        "colab": {
          "base_uri": "https://localhost:8080/"
        },
        "id": "J8blJmdzfFkh",
        "outputId": "8dd8b543-5b41-4c58-98c2-842656d4c5f6"
      },
      "source": [
        "!nvidia-smi --compute-mode=EXCLUSIVE_PROCESS"
      ],
      "execution_count": null,
      "outputs": [
        {
          "output_type": "stream",
          "name": "stdout",
          "text": [
            "Set compute mode to EXCLUSIVE_PROCESS for GPU 00000000:00:04.0.\n",
            "All done.\n"
          ]
        }
      ]
    },
    {
      "cell_type": "code",
      "metadata": {
        "id": "s8F2XP7ifLFm"
      },
      "source": [
        "!echo \"SHELL=/bin/bash\" > /tmp/nvidia-mps-cronjob\n",
        "!echo \"PATH=/usr/local/sbin:/usr/local/bin:/sbin:/bin:/usr/sbin:/usr/bin\" >> /tmp/nvidia-mps-cronjob\n",
        "!echo \"@reboot   root    nvidia-smi --compute-mode=EXCLUSIVE_PROCESS\" >> /tmp/nvidia-mps-cronjob"
      ],
      "execution_count": null,
      "outputs": []
    },
    {
      "cell_type": "code",
      "metadata": {
        "id": "MRcE_FWlfR7T"
      },
      "source": [
        "!chown root:root /tmp/nvidia-mps-cronjob\n",
        "!sudo mv /tmp/nvidia-mps-cronjob /etc/cron.d/"
      ],
      "execution_count": null,
      "outputs": []
    },
    {
      "cell_type": "code",
      "metadata": {
        "id": "EelOWzZLgQf0"
      },
      "source": [
        "!echo \"[Unit]\" > /tmp/nvidia-mps.service\n",
        "!echo \"Description=NVIDIA MPS control service\" >> /tmp/nvidia-mps.service\n",
        "!echo \"After=cron.service\" >> /tmp/nvidia-mps.service\n",
        "!echo \"\" >> /tmp/nvidia-mps.service\n",
        "!echo \"[Service]\" >> /tmp/nvidia-mps.service\n",
        "!echo \"Restart=on-failure\" >> /tmp/nvidia-mps.service\n",
        "!echo \"ExecStart=/usr/bin/nvidia-cuda-mps-control -f\" >> /tmp/nvidia-mps.service\n",
        "!echo \"\" >> /tmp/nvidia-mps.service\n",
        "!echo \"[Install]\" >> /tmp/nvidia-mps.service\n",
        "!echo \"WantedBy=multi-user.target\" >> /tmp/nvidia-mps.service"
      ],
      "execution_count": null,
      "outputs": []
    },
    {
      "cell_type": "code",
      "metadata": {
        "id": "EJvVVVHMgWPo"
      },
      "source": [
        "!sudo chown root:root /tmp/nvidia-mps.service\n",
        "!sudo mv /tmp/nvidia-mps.service /etc/systemd/system/"
      ],
      "execution_count": null,
      "outputs": []
    },
    {
      "cell_type": "code",
      "metadata": {
        "colab": {
          "base_uri": "https://localhost:8080/"
        },
        "id": "1jyAAP9CgZyG",
        "outputId": "70734f87-26c2-4b1a-d3f2-8fcf8183492e"
      },
      "source": [
        "!sudo systemctl --now enable nvidia-mps.service"
      ],
      "execution_count": null,
      "outputs": [
        {
          "output_type": "stream",
          "name": "stdout",
          "text": [
            "System has not been booted with systemd as init system (PID 1). Can't operate.\n"
          ]
        }
      ]
    },
    {
      "cell_type": "code",
      "metadata": {
        "colab": {
          "base_uri": "https://localhost:8080/"
        },
        "id": "lae6CGYLknfv",
        "outputId": "8a08eeda-d6e4-40de-84ce-df07beaf2da2"
      },
      "source": [
        "!curl -sL https://aka.ms/InstallAzureCLIDeb | sudo bash"
      ],
      "execution_count": null,
      "outputs": [
        {
          "output_type": "stream",
          "name": "stdout",
          "text": [
            "Get:1 https://cloud.r-project.org/bin/linux/ubuntu bionic-cran40/ InRelease [3,626 B]\n",
            "Ign:2 https://developer.download.nvidia.com/compute/cuda/repos/ubuntu1804/x86_64  InRelease\n",
            "Get:3 http://security.ubuntu.com/ubuntu bionic-security InRelease [88.7 kB]\n",
            "Hit:4 http://ppa.launchpad.net/c2d4u.team/c2d4u4.0+/ubuntu bionic InRelease\n",
            "Ign:5 https://developer.download.nvidia.com/compute/machine-learning/repos/ubuntu1804/x86_64  InRelease\n",
            "Hit:6 https://developer.download.nvidia.com/compute/cuda/repos/ubuntu1804/x86_64  Release\n",
            "Hit:7 http://archive.ubuntu.com/ubuntu bionic InRelease\n",
            "Hit:8 https://developer.download.nvidia.com/compute/machine-learning/repos/ubuntu1804/x86_64  Release\n",
            "Get:9 http://archive.ubuntu.com/ubuntu bionic-updates InRelease [88.7 kB]\n",
            "Hit:10 http://ppa.launchpad.net/cran/libgit2/ubuntu bionic InRelease\n",
            "Hit:12 http://ppa.launchpad.net/deadsnakes/ppa/ubuntu bionic InRelease\n",
            "Get:14 http://archive.ubuntu.com/ubuntu bionic-backports InRelease [74.6 kB]\n",
            "Hit:15 http://ppa.launchpad.net/graphics-drivers/ppa/ubuntu bionic InRelease\n",
            "Get:16 http://security.ubuntu.com/ubuntu bionic-security/universe amd64 Packages [1,430 kB]\n",
            "Get:17 http://archive.ubuntu.com/ubuntu bionic-updates/main amd64 Packages [2,800 kB]\n",
            "Get:18 http://archive.ubuntu.com/ubuntu bionic-updates/universe amd64 Packages [2,208 kB]\n",
            "Fetched 6,695 kB in 2s (2,911 kB/s)\n",
            "Reading package lists... Done\n",
            "Reading package lists... Done\n",
            "Building dependency tree       \n",
            "Reading state information... Done\n",
            "lsb-release is already the newest version (9.20170808ubuntu1).\n",
            "lsb-release set to manually installed.\n",
            "curl is already the newest version (7.58.0-2ubuntu3.16).\n",
            "gnupg is already the newest version (2.2.4-1ubuntu1.4).\n",
            "gnupg set to manually installed.\n",
            "The following NEW packages will be installed:\n",
            "  apt-transport-https\n",
            "0 upgraded, 1 newly installed, 0 to remove and 37 not upgraded.\n",
            "Need to get 4,348 B of archives.\n",
            "After this operation, 154 kB of additional disk space will be used.\n",
            "Get:1 http://archive.ubuntu.com/ubuntu bionic-updates/universe amd64 apt-transport-https all 1.6.14 [4,348 B]\n",
            "Fetched 4,348 B in 0s (12.8 kB/s)\n",
            "Selecting previously unselected package apt-transport-https.\n",
            "(Reading database ... 155047 files and directories currently installed.)\n",
            "Preparing to unpack .../apt-transport-https_1.6.14_all.deb ...\n",
            "Unpacking apt-transport-https (1.6.14) ...\n",
            "Setting up apt-transport-https (1.6.14) ...\n",
            "Hit:1 https://cloud.r-project.org/bin/linux/ubuntu bionic-cran40/ InRelease\n",
            "Hit:2 http://security.ubuntu.com/ubuntu bionic-security InRelease\n",
            "Ign:3 https://developer.download.nvidia.com/compute/cuda/repos/ubuntu1804/x86_64  InRelease\n",
            "Get:4 https://packages.microsoft.com/repos/azure-cli bionic InRelease [3,964 B]\n",
            "Hit:5 http://ppa.launchpad.net/c2d4u.team/c2d4u4.0+/ubuntu bionic InRelease\n",
            "Ign:6 https://developer.download.nvidia.com/compute/machine-learning/repos/ubuntu1804/x86_64  InRelease\n",
            "Hit:7 http://archive.ubuntu.com/ubuntu bionic InRelease\n",
            "Hit:8 https://developer.download.nvidia.com/compute/cuda/repos/ubuntu1804/x86_64  Release\n",
            "Hit:9 https://developer.download.nvidia.com/compute/machine-learning/repos/ubuntu1804/x86_64  Release\n",
            "Hit:10 http://archive.ubuntu.com/ubuntu bionic-updates InRelease\n",
            "Hit:11 http://ppa.launchpad.net/cran/libgit2/ubuntu bionic InRelease\n",
            "Get:12 https://packages.microsoft.com/repos/azure-cli bionic/main amd64 Packages [15.7 kB]\n",
            "Hit:13 http://archive.ubuntu.com/ubuntu bionic-backports InRelease\n",
            "Hit:14 http://ppa.launchpad.net/deadsnakes/ppa/ubuntu bionic InRelease\n",
            "Hit:17 http://ppa.launchpad.net/graphics-drivers/ppa/ubuntu bionic InRelease\n",
            "Fetched 19.7 kB in 1s (15.7 kB/s)\n",
            "Reading package lists... Done\n",
            "Reading package lists... Done\n",
            "Building dependency tree       \n",
            "Reading state information... Done\n",
            "The following NEW packages will be installed:\n",
            "  azure-cli\n",
            "0 upgraded, 1 newly installed, 0 to remove and 37 not upgraded.\n",
            "Need to get 63.7 MB of archives.\n",
            "After this operation, 964 MB of additional disk space will be used.\n",
            "Get:1 https://packages.microsoft.com/repos/azure-cli bionic/main amd64 azure-cli all 2.28.0-1~bionic [63.7 MB]\n",
            "Fetched 63.7 MB in 2s (38.6 MB/s)\n",
            "Selecting previously unselected package azure-cli.\n",
            "(Reading database ... 155051 files and directories currently installed.)\n",
            "Preparing to unpack .../azure-cli_2.28.0-1~bionic_all.deb ...\n",
            "Unpacking azure-cli (2.28.0-1~bionic) ...\n",
            "Setting up azure-cli (2.28.0-1~bionic) ...\n"
          ]
        }
      ]
    },
    {
      "cell_type": "code",
      "metadata": {
        "colab": {
          "base_uri": "https://localhost:8080/"
        },
        "id": "53KjWFALlemp",
        "outputId": "341d33ac-52d0-49e2-f429-dbda9afa7f87"
      },
      "source": [
        "!sudo az login"
      ],
      "execution_count": null,
      "outputs": [
        {
          "output_type": "stream",
          "name": "stdout",
          "text": [
            "\u001b[93mTo sign in, use a web browser to open the page https://microsoft.com/devicelogin and enter the code RQT85NJMX to authenticate.\u001b[0m\n",
            "[\n",
            "  {\n",
            "    \"cloudName\": \"AzureCloud\",\n",
            "    \"homeTenantId\": \"44e3cf94-19c9-4e32-96c3-14f5bf01391a\",\n",
            "    \"id\": \"096a43f5-e029-42ab-b2aa-56a0191f9a14\",\n",
            "    \"isDefault\": true,\n",
            "    \"managedByTenants\": [],\n",
            "    \"name\": \"Azure for Students\",\n",
            "    \"state\": \"Enabled\",\n",
            "    \"tenantId\": \"44e3cf94-19c9-4e32-96c3-14f5bf01391a\",\n",
            "    \"user\": {\n",
            "      \"name\": \"ms21922770@my.sliit.lk\",\n",
            "      \"type\": \"user\"\n",
            "    }\n",
            "  }\n",
            "]\n"
          ]
        }
      ]
    },
    {
      "cell_type": "code",
      "metadata": {
        "id": "QwZOAhQ0l83t"
      },
      "source": [
        "!sudo az account set --subscription \"096a43f5-e029-42ab-b2aa-56a0191f9a14\""
      ],
      "execution_count": null,
      "outputs": []
    },
    {
      "cell_type": "code",
      "metadata": {
        "colab": {
          "base_uri": "https://localhost:8080/"
        },
        "id": "T8CXl3fwmESe",
        "outputId": "8fc79a32-57b0-4a16-efe7-2e7094781b24"
      },
      "source": [
        "!sudo az group create --name \"sliit-iot\" --location \"westus2\""
      ],
      "execution_count": null,
      "outputs": [
        {
          "output_type": "stream",
          "name": "stdout",
          "text": [
            "{\n",
            "  \"id\": \"/subscriptions/096a43f5-e029-42ab-b2aa-56a0191f9a14/resourceGroups/sliit-iot\",\n",
            "  \"location\": \"westus2\",\n",
            "  \"managedBy\": null,\n",
            "  \"name\": \"sliit-iot\",\n",
            "  \"properties\": {\n",
            "    \"provisioningState\": \"Succeeded\"\n",
            "  },\n",
            "  \"tags\": null,\n",
            "  \"type\": \"Microsoft.Resources/resourceGroups\"\n",
            "}\n"
          ]
        }
      ]
    },
    {
      "cell_type": "code",
      "metadata": {
        "colab": {
          "base_uri": "https://localhost:8080/"
        },
        "id": "VZ9kbfi4m5u_",
        "outputId": "6ced2a55-aa3a-417d-cc51-424703191a92"
      },
      "source": [
        "!az extension add --name azure-iot"
      ],
      "execution_count": null,
      "outputs": [
        {
          "output_type": "stream",
          "name": "stdout",
          "text": [
            ""
          ]
        }
      ]
    },
    {
      "cell_type": "code",
      "metadata": {
        "colab": {
          "base_uri": "https://localhost:8080/"
        },
        "id": "1XqGooFlmYad",
        "outputId": "7a81c648-90fc-4c2a-c61c-eae2811072d0"
      },
      "source": [
        "!sudo az iot hub create --name \"sliit-iot-ito-hub\" --sku F1 --partition-count 2  --resource-group \"sliit-iot\""
      ],
      "execution_count": null,
      "outputs": [
        {
          "output_type": "stream",
          "name": "stdout",
          "text": [
            "\u001b[K{\n",
            "  \"etag\": \"AAAADFnKOz8=\",\n",
            "  \"id\": \"/subscriptions/096a43f5-e029-42ab-b2aa-56a0191f9a14/resourceGroups/sliit-iot/providers/Microsoft.Devices/IotHubs/sliit-iot-ito-hub\",\n",
            "  \"identity\": {\n",
            "    \"principalId\": null,\n",
            "    \"tenantId\": null,\n",
            "    \"type\": \"None\",\n",
            "    \"userAssignedIdentities\": null\n",
            "  },\n",
            "  \"location\": \"westus2\",\n",
            "  \"name\": \"sliit-iot-ito-hub\",\n",
            "  \"properties\": {\n",
            "    \"allowedFqdnList\": [],\n",
            "    \"authorizationPolicies\": null,\n",
            "    \"cloudToDevice\": {\n",
            "      \"defaultTtlAsIso8601\": \"1:00:00\",\n",
            "      \"feedback\": {\n",
            "        \"lockDurationAsIso8601\": \"0:00:05\",\n",
            "        \"maxDeliveryCount\": 10,\n",
            "        \"ttlAsIso8601\": \"1:00:00\"\n",
            "      },\n",
            "      \"maxDeliveryCount\": 10\n",
            "    },\n",
            "    \"comments\": null,\n",
            "    \"disableDeviceSas\": null,\n",
            "    \"disableLocalAuth\": null,\n",
            "    \"disableModuleSas\": null,\n",
            "    \"enableFileUploadNotifications\": false,\n",
            "    \"eventHubEndpoints\": {\n",
            "      \"events\": {\n",
            "        \"endpoint\": \"sb://ihsuprodmwhres012dednamespace.servicebus.windows.net/\",\n",
            "        \"partitionCount\": 2,\n",
            "        \"partitionIds\": [\n",
            "          \"0\",\n",
            "          \"1\"\n",
            "        ],\n",
            "        \"path\": \"iothub-ehub-sliit-iot-15159284-2c8346c965\",\n",
            "        \"retentionTimeInDays\": 1\n",
            "      }\n",
            "    },\n",
            "    \"features\": \"None\",\n",
            "    \"hostName\": \"sliit-iot-ito-hub.azure-devices.net\",\n",
            "    \"ipFilterRules\": [],\n",
            "    \"locations\": [\n",
            "      {\n",
            "        \"location\": \"West US 2\",\n",
            "        \"role\": \"primary\"\n",
            "      },\n",
            "      {\n",
            "        \"location\": \"West Central US\",\n",
            "        \"role\": \"secondary\"\n",
            "      }\n",
            "    ],\n",
            "    \"messagingEndpoints\": {\n",
            "      \"fileNotifications\": {\n",
            "        \"lockDurationAsIso8601\": \"0:00:05\",\n",
            "        \"maxDeliveryCount\": 10,\n",
            "        \"ttlAsIso8601\": \"1:00:00\"\n",
            "      }\n",
            "    },\n",
            "    \"minTlsVersion\": null,\n",
            "    \"networkRuleSets\": null,\n",
            "    \"privateEndpointConnections\": null,\n",
            "    \"provisioningState\": \"Succeeded\",\n",
            "    \"publicNetworkAccess\": null,\n",
            "    \"restrictOutboundNetworkAccess\": null,\n",
            "    \"routing\": {\n",
            "      \"endpoints\": {\n",
            "        \"eventHubs\": [],\n",
            "        \"serviceBusQueues\": [],\n",
            "        \"serviceBusTopics\": [],\n",
            "        \"storageContainers\": []\n",
            "      },\n",
            "      \"enrichments\": null,\n",
            "      \"fallbackRoute\": {\n",
            "        \"condition\": \"true\",\n",
            "        \"endpointNames\": [\n",
            "          \"events\"\n",
            "        ],\n",
            "        \"isEnabled\": true,\n",
            "        \"name\": \"$fallback\",\n",
            "        \"source\": \"DeviceMessages\"\n",
            "      },\n",
            "      \"routes\": []\n",
            "    },\n",
            "    \"state\": \"Active\",\n",
            "    \"storageEndpoints\": {\n",
            "      \"$default\": {\n",
            "        \"authenticationType\": null,\n",
            "        \"connectionString\": \"\",\n",
            "        \"containerName\": \"\",\n",
            "        \"identity\": null,\n",
            "        \"sasTtlAsIso8601\": \"1:00:00\"\n",
            "      }\n",
            "    }\n",
            "  },\n",
            "  \"resourcegroup\": \"sliit-iot\",\n",
            "  \"sku\": {\n",
            "    \"capacity\": 1,\n",
            "    \"name\": \"F1\",\n",
            "    \"tier\": \"Free\"\n",
            "  },\n",
            "  \"subscriptionid\": \"096a43f5-e029-42ab-b2aa-56a0191f9a14\",\n",
            "  \"tags\": {},\n",
            "  \"type\": \"Microsoft.Devices/IotHubs\"\n",
            "}\n"
          ]
        }
      ]
    },
    {
      "cell_type": "code",
      "metadata": {
        "colab": {
          "base_uri": "https://localhost:8080/"
        },
        "id": "83OAvw1YtCNo",
        "outputId": "a43a774f-57d7-4116-ca35-426da56b2aed"
      },
      "source": [
        "!sudo az iot hub device-identity create --hub-name \"sliit-iot-ito-hub\" --device-id \"social-distance-vm\" --edge-enabled"
      ],
      "execution_count": null,
      "outputs": [
        {
          "output_type": "stream",
          "name": "stdout",
          "text": [
            "{\n",
            "  \"authentication\": {\n",
            "    \"symmetricKey\": {\n",
            "      \"primaryKey\": \"gXkRw+0Y2RscMwcH+N7ut6kG+bQa4YEJLhzMcA573bc=\",\n",
            "      \"secondaryKey\": \"iM587rjnM2JHi0xKKKCr2NkT93KkfnPJKufFeF1w+YM=\"\n",
            "    },\n",
            "    \"type\": \"sas\",\n",
            "    \"x509Thumbprint\": {\n",
            "      \"primaryThumbprint\": null,\n",
            "      \"secondaryThumbprint\": null\n",
            "    }\n",
            "  },\n",
            "  \"capabilities\": {\n",
            "    \"iotEdge\": true\n",
            "  },\n",
            "  \"cloudToDeviceMessageCount\": 0,\n",
            "  \"connectionState\": \"Disconnected\",\n",
            "  \"connectionStateUpdatedTime\": \"0001-01-01T00:00:00\",\n",
            "  \"deviceId\": \"social-distance-vm\",\n",
            "  \"deviceScope\": \"ms-azure-iot-edge://social-distance-vm-637688709154795123\",\n",
            "  \"etag\": \"NzcwNTA2NjE4\",\n",
            "  \"generationId\": \"637688709154795123\",\n",
            "  \"lastActivityTime\": \"0001-01-01T00:00:00\",\n",
            "  \"parentScopes\": [],\n",
            "  \"status\": \"enabled\",\n",
            "  \"statusReason\": null,\n",
            "  \"statusUpdatedTime\": \"0001-01-01T00:00:00\"\n",
            "}\n"
          ]
        }
      ]
    },
    {
      "cell_type": "code",
      "metadata": {
        "colab": {
          "base_uri": "https://localhost:8080/"
        },
        "id": "4hwKTkYRvf1c",
        "outputId": "7c60b217-4ae2-4abd-b923-3e185eb4d8d0"
      },
      "source": [
        "!curl https://packages.microsoft.com/config/ubuntu/18.04/multiarch/prod.list > ./microsoft-prod.list"
      ],
      "execution_count": null,
      "outputs": [
        {
          "output_type": "stream",
          "name": "stdout",
          "text": [
            "  % Total    % Received % Xferd  Average Speed   Time    Time     Time  Current\n",
            "                                 Dload  Upload   Total   Spent    Left  Speed\n",
            "100   101  100   101    0     0    353      0 --:--:-- --:--:-- --:--:--   353\n"
          ]
        }
      ]
    },
    {
      "cell_type": "code",
      "metadata": {
        "id": "h00RCunOvkHC"
      },
      "source": [
        "!sudo cp ./microsoft-prod.list /etc/apt/sources.list.d/"
      ],
      "execution_count": null,
      "outputs": []
    },
    {
      "cell_type": "code",
      "metadata": {
        "colab": {
          "base_uri": "https://localhost:8080/"
        },
        "id": "8ucqxhodvo4t",
        "outputId": "908f9cdd-d3c1-4dff-d0fa-050b3309409e"
      },
      "source": [
        "!curl https://packages.microsoft.com/keys/microsoft.asc | gpg --dearmor > microsoft.gpg"
      ],
      "execution_count": null,
      "outputs": [
        {
          "output_type": "stream",
          "name": "stdout",
          "text": [
            "  % Total    % Received % Xferd  Average Speed   Time    Time     Time  Current\n",
            "                                 Dload  Upload   Total   Spent    Left  Speed\n",
            "\r  0     0    0     0    0     0      0      0 --:--:-- --:--:-- --:--:--     0\r100   983  100   983    0     0   5748      0 --:--:-- --:--:-- --:--:--  5748\n"
          ]
        }
      ]
    },
    {
      "cell_type": "code",
      "metadata": {
        "id": "NzpMrY7VvxGn"
      },
      "source": [
        "!sudo cp ./microsoft.gpg /etc/apt/trusted.gpg.d/"
      ],
      "execution_count": null,
      "outputs": []
    },
    {
      "cell_type": "code",
      "metadata": {
        "colab": {
          "base_uri": "https://localhost:8080/"
        },
        "id": "Tid9qsCZv08X",
        "outputId": "28f45247-bc33-424f-afd6-4dc29f1f0937"
      },
      "source": [
        "!sudo apt-get update"
      ],
      "execution_count": null,
      "outputs": [
        {
          "output_type": "stream",
          "name": "stdout",
          "text": [
            "\r0% [Working]\r            \rGet:1 http://security.ubuntu.com/ubuntu bionic-security InRelease [88.7 kB]\n",
            "\r0% [Connecting to archive.ubuntu.com (91.189.88.152)] [1 InRelease 14.2 kB/88.7\r                                                                               \rHit:2 https://cloud.r-project.org/bin/linux/ubuntu bionic-cran40/ InRelease\n",
            "\r0% [Connecting to archive.ubuntu.com (91.189.88.152)] [1 InRelease 14.2 kB/88.7\r0% [2 InRelease gpgv 3,626 B] [Connecting to archive.ubuntu.com (91.189.88.152)\r                                                                               \rIgn:3 https://developer.download.nvidia.com/compute/cuda/repos/ubuntu1804/x86_64  InRelease\n",
            "Hit:4 https://packages.microsoft.com/repos/azure-cli bionic InRelease\n",
            "Ign:5 https://developer.download.nvidia.com/compute/machine-learning/repos/ubuntu1804/x86_64  InRelease\n",
            "Hit:6 http://ppa.launchpad.net/c2d4u.team/c2d4u4.0+/ubuntu bionic InRelease\n",
            "Hit:7 https://developer.download.nvidia.com/compute/cuda/repos/ubuntu1804/x86_64  Release\n",
            "Hit:8 https://developer.download.nvidia.com/compute/machine-learning/repos/ubuntu1804/x86_64  Release\n",
            "Hit:9 http://archive.ubuntu.com/ubuntu bionic InRelease\n",
            "Get:10 https://packages.microsoft.com/ubuntu/18.04/multiarch/prod bionic InRelease [29.8 kB]\n",
            "Get:11 http://archive.ubuntu.com/ubuntu bionic-updates InRelease [88.7 kB]\n",
            "Hit:12 http://ppa.launchpad.net/cran/libgit2/ubuntu bionic InRelease\n",
            "Hit:14 http://ppa.launchpad.net/deadsnakes/ppa/ubuntu bionic InRelease\n",
            "Get:16 http://archive.ubuntu.com/ubuntu bionic-backports InRelease [74.6 kB]\n",
            "Hit:17 http://ppa.launchpad.net/graphics-drivers/ppa/ubuntu bionic InRelease\n",
            "Get:18 https://packages.microsoft.com/ubuntu/18.04/multiarch/prod bionic/main all Packages [503 B]\n",
            "Get:19 https://packages.microsoft.com/ubuntu/18.04/multiarch/prod bionic/main amd64 Packages [33.8 kB]\n",
            "Get:20 https://packages.microsoft.com/ubuntu/18.04/multiarch/prod bionic/main arm64 Packages [25.8 kB]\n",
            "Get:21 https://packages.microsoft.com/ubuntu/18.04/multiarch/prod bionic/main armhf Packages [14.4 kB]\n",
            "Fetched 356 kB in 1s (262 kB/s)\n",
            "Reading package lists... Done\n"
          ]
        }
      ]
    },
    {
      "cell_type": "code",
      "metadata": {
        "colab": {
          "base_uri": "https://localhost:8080/"
        },
        "id": "PGQiamRfv6e7",
        "outputId": "bcf180b7-7bdf-4da0-aaef-51ae49f99705"
      },
      "source": [
        "!sudo apt-get install iotedge=1.0.9* libiothsm-std=1.0.9*"
      ],
      "execution_count": null,
      "outputs": [
        {
          "output_type": "stream",
          "name": "stdout",
          "text": [
            "Reading package lists... Done\n",
            "Building dependency tree       \n",
            "Reading state information... Done\n",
            "libiothsm-std is already the newest version (1.0.9.5-1).\n",
            "Selected version '1.0.9.5-1' (microsoft-ubuntu-bionic-multiarch-prod bionic:bionic [amd64]) for 'iotedge'\n",
            "Selected version '1.0.9.5-1' (microsoft-ubuntu-bionic-multiarch-prod bionic:bionic [amd64]) for 'libiothsm-std'\n",
            "The following NEW packages will be installed:\n",
            "  iotedge\n",
            "0 upgraded, 1 newly installed, 0 to remove and 37 not upgraded.\n",
            "Need to get 5,641 kB of archives.\n",
            "After this operation, 25.1 MB of additional disk space will be used.\n",
            "Get:1 https://packages.microsoft.com/ubuntu/18.04/multiarch/prod bionic/main amd64 iotedge amd64 1.0.9.5-1 [5,641 kB]\n",
            "Fetched 5,641 kB in 1s (9,388 kB/s)\n",
            "debconf: unable to initialize frontend: Dialog\n",
            "debconf: (No usable dialog-like program is installed, so the dialog based frontend cannot be used. at /usr/share/perl5/Debconf/FrontEnd/Dialog.pm line 76, <> line 1.)\n",
            "debconf: falling back to frontend: Readline\n",
            "debconf: unable to initialize frontend: Readline\n",
            "debconf: (This frontend requires a controlling tty.)\n",
            "debconf: falling back to frontend: Teletype\n",
            "dpkg-preconfigure: unable to re-open stdin: \n",
            "(Reading database ... 209128 files and directories currently installed.)\n",
            "Preparing to unpack .../iotedge_1.0.9.5-1_amd64.deb ...\n",
            "Adding system user `iotedge' (UID 105) ...\n",
            "Adding new user `iotedge' (UID 105) with group `nogroup' ...\n",
            "Creating home directory `/var/lib/iotedge' ...\n",
            "Adding group `iotedge' (GID 109) ...\n",
            "Done.\n",
            "Adding user `iotedge' to group `docker' ...\n",
            "Adding user iotedge to group docker\n",
            "Done.\n",
            "Unpacking iotedge (1.0.9.5-1) ...\n",
            "Setting up iotedge (1.0.9.5-1) ...\n",
            "===============================================================================\n",
            "\n",
            "                              Azure IoT Edge\n",
            "\n",
            "  IMPORTANT: Please update the configuration file located at:\n",
            "\n",
            "    /etc/iotedge/config.yaml\n",
            "\n",
            "  with your device's provisioning information. You will need to restart the\n",
            "  'iotedge' service for these changes to take effect.\n",
            "\n",
            "  To restart the 'iotedge' service, use:\n",
            "\n",
            "    'systemctl restart iotedge'\n",
            "\n",
            "    - OR -\n",
            "\n",
            "    /etc/init.d/iotedge restart\n",
            "\n",
            "  These commands may need to be run with sudo depending on your environment.\n",
            "\n",
            "===============================================================================\n",
            "Created symlink /etc/systemd/system/sockets.target.wants/iotedge.mgmt.socket → /lib/systemd/system/iotedge.mgmt.socket.\n",
            "Created symlink /etc/systemd/system/multi-user.target.wants/iotedge.service → /lib/systemd/system/iotedge.service.\n",
            "Created symlink /etc/systemd/system/sockets.target.wants/iotedge.socket → /lib/systemd/system/iotedge.socket.\n",
            "invoke-rc.d: could not determine current runlevel\n",
            "invoke-rc.d: policy-rc.d denied execution of start.\n",
            "Processing triggers for man-db (2.8.3-2ubuntu0.1) ...\n",
            "Processing triggers for systemd (237-3ubuntu10.52) ...\n"
          ]
        }
      ]
    },
    {
      "cell_type": "code",
      "metadata": {
        "colab": {
          "base_uri": "https://localhost:8080/"
        },
        "id": "oLpdVgVFyuLc",
        "outputId": "9be67517-0f51-4b39-9a26-4a039fc097f3"
      },
      "source": [
        "!service iotedge restart"
      ],
      "execution_count": null,
      "outputs": [
        {
          "output_type": "stream",
          "name": "stdout",
          "text": [
            " * Restarting iotedged iotedge\n",
            "   ...done.\n"
          ]
        }
      ]
    },
    {
      "cell_type": "code",
      "metadata": {
        "colab": {
          "base_uri": "https://localhost:8080/"
        },
        "id": "y9YxePGLzjX0",
        "outputId": "2fd0c13f-7ef0-4690-9c18-2446891d8fa6"
      },
      "source": [
        "!sudo az iot hub device-identity connection-string show --device-id social-distance-vm --hub-name sliit-iot-ito-hub"
      ],
      "execution_count": null,
      "outputs": [
        {
          "output_type": "stream",
          "name": "stdout",
          "text": [
            "{\n",
            "  \"connectionString\": \"HostName=sliit-iot-ito-hub.azure-devices.net;DeviceId=social-distance-vm;SharedAccessKey=gXkRw+0Y2RscMwcH+N7ut6kG+bQa4YEJLhzMcA573bc=\"\n",
            "}\n"
          ]
        }
      ]
    },
    {
      "cell_type": "code",
      "metadata": {
        "colab": {
          "base_uri": "https://localhost:8080/"
        },
        "id": "syOj7OsNzyeq",
        "outputId": "1ffd8c7c-3cda-40c5-ae4b-e34df5e20dea"
      },
      "source": [
        "!cat /etc/iotedge/config.yaml"
      ],
      "execution_count": null,
      "outputs": [
        {
          "output_type": "stream",
          "name": "stdout",
          "text": [
            "###############################################################################\n",
            "#                      IoT Edge Daemon configuration\n",
            "###############################################################################\n",
            "#\n",
            "# This file configures the IoT Edge daemon. The daemon must be restarted to\n",
            "# pick up any configuration changes.\n",
            "#\n",
            "# Note - this file is yaml. Learn more here: http://yaml.org/refcard.html\n",
            "#\n",
            "###############################################################################\n",
            "\n",
            "###############################################################################\n",
            "# Provisioning mode and settings\n",
            "###############################################################################\n",
            "#\n",
            "# Configures the identity provisioning mode of the daemon.\n",
            "#\n",
            "# Supported modes:\n",
            "#     manual   - using an iothub connection string\n",
            "#     dps      - using dps for provisioning\n",
            "#     external - the device has been provisioned externally.\n",
            "#                Uses an external provisioning endpoint to get device specific information.\n",
            "#\n",
            "# DPS Settings\n",
            "#     scope_id        - Required. Value of a specific DPS instance's ID scope\n",
            "#     registration_id - Required for TPM and symmetric key provisioning flows.\n",
            "#                       Optional for X.509 provisioning. Registration ID of a\n",
            "#                       specific device in DPS.\n",
            "#                       For more information regarding DPS registration ids\n",
            "#                       please see https://docs.microsoft.com/en-us/azure/iot-dps/concepts-device#registration-id\n",
            "#     symmetric_key   - Optional. This entry should only be specified when\n",
            "#                       provisioning devices configured for symmetric key\n",
            "#                       attestation. Device specific symmetric key.\n",
            "#     identity_cert   - Optional. The Edge device identity X.509 certificate\n",
            "#                       entry should only be specified when provisioning\n",
            "#                       an Edge device configured for X.509 attestation.\n",
            "#                       The value should be specified as a URI.\n",
            "#                       Ex. when specifying a PEM encoded certificate file, the URI\n",
            "#                       should be specified as file:///path/identity_certificate.pem\n",
            "#     identity_pk     - Optional. The Edge device identity private key\n",
            "#                       entry should only be specified when provisioning\n",
            "#                       an Edge device configured for X.509 attestation.\n",
            "#                       The value should be specified as a URI.\n",
            "#                       Ex. when specifying a PEM encoded private key file, the URI\n",
            "#                       should be specified as file:///path/identity_key.pem\n",
            "#\n",
            "# External Settings\n",
            "#     endpoint - Required. Value of the endpoint used to retrieve device specific\n",
            "#                information such as its IoT hub connection information.\n",
            "###############################################################################\n",
            "\n",
            "# Manual provisioning configuration\n",
            "provisioning:\n",
            "  source: \"manual\"\n",
            "  device_connection_string: \"<ADD DEVICE CONNECTION STRING HERE>\"\n",
            "\n",
            "# DPS TPM provisioning configuration\n",
            "# provisioning:\n",
            "#   source: \"dps\"\n",
            "#   global_endpoint: \"https://global.azure-devices-provisioning.net\"\n",
            "#   scope_id: \"<SCOPE_ID>\"\n",
            "#   attestation:\n",
            "#     method: \"tpm\"\n",
            "#     registration_id: \"<REGISTRATION_ID>\"\n",
            "\n",
            "# DPS symmetric key provisioning configuration\n",
            "# provisioning:\n",
            "#   source: \"dps\"\n",
            "#   global_endpoint: \"https://global.azure-devices-provisioning.net\"\n",
            "#   scope_id: \"<SCOPE_ID>\"\n",
            "#   attestation:\n",
            "#     method: \"symmetric_key\"\n",
            "#     registration_id: \"<REGISTRATION_ID>\"\n",
            "#     symmetric_key: \"<SYMMETRIC_KEY>\"\n",
            "\n",
            "# DPS X.509 provisioning configuration\n",
            "# provisioning:\n",
            "#   source: \"dps\"\n",
            "#   global_endpoint: \"https://global.azure-devices-provisioning.net\"\n",
            "#   scope_id: \"<SCOPE_ID>\"\n",
            "#   attestation:\n",
            "#     method: \"x509\"\n",
            "#     registration_id: \"<OPTIONAL REGISTRATION ID. LEAVE COMMENTED OUT TO REGISTER WITH CN OF identity_cert>\"\n",
            "#     identity_cert: \"<REQUIRED URI TO DEVICE IDENTITY CERTIFICATE>\"\n",
            "#     identity_pk: \"<REQUIRED URI TO DEVICE IDENTITY PRIVATE KEY>\"\n",
            "\n",
            "# External provisioning configuration\n",
            "# provisioning:\n",
            "#   source: \"external\"\n",
            "#   endpoint: \"http://localhost:9999\"\n",
            "\n",
            "###############################################################################\n",
            "# Certificate settings\n",
            "###############################################################################\n",
            "#\n",
            "# Configures the certificates required to operate the IoT Edge\n",
            "# runtime as a gateway which enables external leaf devices to securely\n",
            "# communicate with the Edge Hub. If not specified, the required certificates\n",
            "# are auto generated for quick start scenarios which are not intended for\n",
            "# production environments.\n",
            "#\n",
            "# Settings:\n",
            "#     device_ca_cert   - URI of the device ca certificate and its chain.\n",
            "#                        Optionally can be specified as a file path.\n",
            "#     device_ca_pk     - URI of the device ca private key file.\n",
            "#                        Optionally can be specified as a file path.\n",
            "#     trusted_ca_certs - URI containing all the trusted CA\n",
            "#                        certificates required for Edge module communication\n",
            "#                        Optionally can be specified as a file path.\n",
            "#\n",
            "# Note:\n",
            "# The values of all of these fields must be specified as a\n",
            "# \"file\" scheme URI such as \"file:///path/cert_key.pem\"\n",
            "###############################################################################\n",
            "\n",
            "# certificates:\n",
            "#   device_ca_cert: \"<ADD URI TO DEVICE CA CERTIFICATE HERE>\"\n",
            "#   device_ca_pk: \"<ADD URI TO DEVICE CA PRIVATE KEY HERE>\"\n",
            "#   trusted_ca_certs: \"<ADD URI TO TRUSTED CA CERTIFICATES HERE>\"\n",
            "\n",
            "###############################################################################\n",
            "# Edge Agent module spec\n",
            "###############################################################################\n",
            "#\n",
            "# Configures the initial Edge Agent module.\n",
            "#\n",
            "# The daemon uses this definition to bootstrap the system. The Edge Agent can\n",
            "# then update itself based on the Edge Agent module definition present in the\n",
            "# deployment in IoT Hub.\n",
            "#\n",
            "# Settings:\n",
            "#     name     - name of the edge agent module. Expected to be \"edgeAgent\".\n",
            "#     type     - type of module. Always \"docker\".\n",
            "#     env      - Any environment variable that needs to be set for edge agent module.\n",
            "#     config   - type specific configuration for edge agent module.\n",
            "#       image  - (docker) Modules require a docker image tag.\n",
            "#       auth   - (docker) Modules may need authoriation to connect to container registry.\n",
            "#\n",
            "# Adding environment variables:\n",
            "# replace \"env: {}\" with\n",
            "#  env:\n",
            "#    key: \"value\"\n",
            "#\n",
            "# Adding container registry authorization:\n",
            "# replace \"auth: {}\" with\n",
            "#    auth:\n",
            "#      username: \"username\"\n",
            "#      password: \"password\"\n",
            "#      serveraddress: \"serveraddress\"\n",
            "#\n",
            "###############################################################################\n",
            "\n",
            "agent:\n",
            "  name: \"edgeAgent\"\n",
            "  type: \"docker\"\n",
            "  env: {}\n",
            "  config:\n",
            "    image: \"mcr.microsoft.com/azureiotedge-agent:1.0\"\n",
            "    auth: {}\n",
            "\n",
            "###############################################################################\n",
            "# Edge device hostname\n",
            "###############################################################################\n",
            "#\n",
            "# Configures the environment variable 'IOTEDGE_GATEWAYHOSTNAME' injected into\n",
            "# modules. Regardless of case the hostname is specified below, a lower case\n",
            "# value is used to configure the Edge Hub server hostname as well as the\n",
            "# environment variable specified above.\n",
            "#\n",
            "# It is important to note that when connecting downstream devices to the\n",
            "# Edge Hub that the lower case value of this hostname be used in the\n",
            "# 'GatewayHostName' field of the device's connection string URI.\n",
            "###############################################################################\n",
            "\n",
            "hostname: \"ac78241a4d24\"\n",
            "\n",
            "###############################################################################\n",
            "# Watchdog settings\n",
            "###############################################################################\n",
            "#\n",
            "# The IoT edge daemon has a watchdog that periodically checks the health of the\n",
            "# Edge Agent module and restarts it if it's down.\n",
            "#\n",
            "# max_retries - Configures the number of retry attempts that the IoT edge daemon\n",
            "#               should make for failed operations before failing with a fatal error.\n",
            "#\n",
            "#               If this configuration is not specified, the daemon keeps retrying\n",
            "#               on errors and doesn't fail fatally.\n",
            "#\n",
            "#               On a fatal failure, the daemon returns an exit code which\n",
            "#               signifies the kind of error encountered. Currently, the following\n",
            "#               error codes are returned by the daemon -\n",
            "#\n",
            "#               150 - Invalid Device ID specified.\n",
            "#               151 - Invalid IoT hub configuration.\n",
            "#               152 - Invalid SAS token used to call IoT hub.\n",
            "#                     This could signal an invalid SAS key.\n",
            "#               1 - All other errors.\n",
            "###############################################################################\n",
            "\n",
            "#watchdog:\n",
            "#  max_retries: 2\n",
            "\n",
            "###############################################################################\n",
            "# Connect settings\n",
            "###############################################################################\n",
            "#\n",
            "#\n",
            "#Configures URIs used by clients of the management and workload APIs\n",
            "#     management_uri - used by the Edge Agent and 'iotedge' CLI to start,\n",
            "#                      stop, and manage modules\n",
            "#     workload_uri   - used by modules to retrieve tokens and certificates\n",
            "#\n",
            "# The following uri schemes are supported:\n",
            "#     http - connect over TCP\n",
            "#     unix - connect over Unix domain socket\n",
            "#\n",
            "###############################################################################\n",
            "\n",
            "connect:\n",
            "  management_uri: \"unix:///var/run/iotedge/mgmt.sock\"\n",
            "  workload_uri: \"unix:///var/run/iotedge/workload.sock\"\n",
            "\n",
            "###############################################################################\n",
            "# Listen settings\n",
            "###############################################################################\n",
            "#\n",
            "# Configures the listen addresses for the daemon.\n",
            "#     management_uri - used by the Edge Agent and 'iotedge' CLI to start,\n",
            "#                      stop, and manage modules\n",
            "#     workload_uri   - used by modules to retrieve tokens and certificates\n",
            "#\n",
            "# The following uri schemes are supported:\n",
            "#     http - listen over TCP\n",
            "#     unix - listen over Unix domain socket\n",
            "#     fd   - listen using systemd socket activation\n",
            "#\n",
            "# These values can be different from the connect URIs. For instance, when\n",
            "# using the fd:// scheme for systemd:\n",
            "#     listen address is fd://iotedge.workload,\n",
            "#     connect address is unix:///var/run/iotedge/workload.sock\n",
            "#\n",
            "###############################################################################\n",
            "\n",
            "listen:\n",
            "  management_uri: \"fd://iotedge.mgmt.socket\"\n",
            "  workload_uri: \"fd://iotedge.socket\"\n",
            "\n",
            "###############################################################################\n",
            "# Home Directory\n",
            "###############################################################################\n",
            "#\n",
            "# Configures the home directory for the daemon.\n",
            "#\n",
            "###############################################################################\n",
            "\n",
            "homedir: \"/var/lib/iotedge\"\n",
            "\n",
            "###############################################################################\n",
            "# Moby Container Runtime settings\n",
            "###############################################################################\n",
            "#\n",
            "# uri - configures the uri for the container runtime.\n",
            "# network - configures the network on which the containers will be created.\n",
            "#\n",
            "# Additional container network configuration such as enabling IPv6 networking\n",
            "# and providing the IPAM settings can be achieved by specifying the relevant\n",
            "# configuration in the network settings.\n",
            "#\n",
            "# network:\n",
            "#   name: \"azure-iot-edge\"\n",
            "#   ipv6: true\n",
            "#   ipam:\n",
            "#     config:\n",
            "#       -\n",
            "#           gateway: '172.18.0.1'\n",
            "#           subnet: '172.18.0.0/16'\n",
            "#           ip_range: '172.18.0.0/16'\n",
            "#       -\n",
            "#           gateway: '2021:ffff:e0:3b1:1::1'\n",
            "#           subnet: '2021:ffff:e0:3b1:1::/80'\n",
            "#           ip_range: '2021:ffff:e0:3b1:1::/80'\n",
            "###############################################################################\n",
            "\n",
            "moby_runtime:\n",
            "  uri: \"unix:///var/run/docker.sock\"\n",
            "  # network: \"azure-iot-edge\"\n",
            "  #\n",
            "  # network:\n",
            "  #   name: \"azure-iot-edge\"\n",
            "  #   ipv6: true\n",
            "  #   ipam:\n",
            "  #     config:\n",
            "  #       -\n",
            "  #           gateway: '172.18.0.1'\n",
            "  #           subnet: '172.18.0.0/16'\n",
            "  #           ip_range: '172.18.0.0/16'\n",
            "  #       -\n",
            "  #           gateway: '2021:ffff:e0:3b1:1::1'\n",
            "  #           subnet: '2021:ffff:e0:3b1:1::/80'\n",
            "  #           ip_range: '2021:ffff:e0:3b1:1::/80'\n"
          ]
        }
      ]
    },
    {
      "cell_type": "code",
      "metadata": {
        "id": "P9L1O14u0O8J"
      },
      "source": [
        "!echo connectionString : \"HostName=sliit-iot-ito-hub.azure-devices.net;DeviceId=social-distance-vm;SharedAccessKey=gXkRw+0Y2RscMwcH+N7ut6kG+bQa4YEJLhzMcA573bc=\" >> /etc/iotedge/config.yaml"
      ],
      "execution_count": null,
      "outputs": []
    },
    {
      "cell_type": "code",
      "metadata": {
        "colab": {
          "base_uri": "https://localhost:8080/"
        },
        "id": "-HbnccLN0_u8",
        "outputId": "8d115b0f-40f3-475f-9846-02328d7fb5c7"
      },
      "source": [
        "!cat /etc/iotedge/config.yaml"
      ],
      "execution_count": null,
      "outputs": [
        {
          "output_type": "stream",
          "name": "stdout",
          "text": [
            "###############################################################################\n",
            "#                      IoT Edge Daemon configuration\n",
            "###############################################################################\n",
            "#\n",
            "# This file configures the IoT Edge daemon. The daemon must be restarted to\n",
            "# pick up any configuration changes.\n",
            "#\n",
            "# Note - this file is yaml. Learn more here: http://yaml.org/refcard.html\n",
            "#\n",
            "###############################################################################\n",
            "\n",
            "###############################################################################\n",
            "# Provisioning mode and settings\n",
            "###############################################################################\n",
            "#\n",
            "# Configures the identity provisioning mode of the daemon.\n",
            "#\n",
            "# Supported modes:\n",
            "#     manual   - using an iothub connection string\n",
            "#     dps      - using dps for provisioning\n",
            "#     external - the device has been provisioned externally.\n",
            "#                Uses an external provisioning endpoint to get device specific information.\n",
            "#\n",
            "# DPS Settings\n",
            "#     scope_id        - Required. Value of a specific DPS instance's ID scope\n",
            "#     registration_id - Required for TPM and symmetric key provisioning flows.\n",
            "#                       Optional for X.509 provisioning. Registration ID of a\n",
            "#                       specific device in DPS.\n",
            "#                       For more information regarding DPS registration ids\n",
            "#                       please see https://docs.microsoft.com/en-us/azure/iot-dps/concepts-device#registration-id\n",
            "#     symmetric_key   - Optional. This entry should only be specified when\n",
            "#                       provisioning devices configured for symmetric key\n",
            "#                       attestation. Device specific symmetric key.\n",
            "#     identity_cert   - Optional. The Edge device identity X.509 certificate\n",
            "#                       entry should only be specified when provisioning\n",
            "#                       an Edge device configured for X.509 attestation.\n",
            "#                       The value should be specified as a URI.\n",
            "#                       Ex. when specifying a PEM encoded certificate file, the URI\n",
            "#                       should be specified as file:///path/identity_certificate.pem\n",
            "#     identity_pk     - Optional. The Edge device identity private key\n",
            "#                       entry should only be specified when provisioning\n",
            "#                       an Edge device configured for X.509 attestation.\n",
            "#                       The value should be specified as a URI.\n",
            "#                       Ex. when specifying a PEM encoded private key file, the URI\n",
            "#                       should be specified as file:///path/identity_key.pem\n",
            "#\n",
            "# External Settings\n",
            "#     endpoint - Required. Value of the endpoint used to retrieve device specific\n",
            "#                information such as its IoT hub connection information.\n",
            "###############################################################################\n",
            "\n",
            "# Manual provisioning configuration\n",
            "provisioning:\n",
            "  source: \"manual\"\n",
            "  device_connection_string: \"<ADD DEVICE CONNECTION STRING HERE>\"\n",
            "\n",
            "# DPS TPM provisioning configuration\n",
            "# provisioning:\n",
            "#   source: \"dps\"\n",
            "#   global_endpoint: \"https://global.azure-devices-provisioning.net\"\n",
            "#   scope_id: \"<SCOPE_ID>\"\n",
            "#   attestation:\n",
            "#     method: \"tpm\"\n",
            "#     registration_id: \"<REGISTRATION_ID>\"\n",
            "\n",
            "# DPS symmetric key provisioning configuration\n",
            "# provisioning:\n",
            "#   source: \"dps\"\n",
            "#   global_endpoint: \"https://global.azure-devices-provisioning.net\"\n",
            "#   scope_id: \"<SCOPE_ID>\"\n",
            "#   attestation:\n",
            "#     method: \"symmetric_key\"\n",
            "#     registration_id: \"<REGISTRATION_ID>\"\n",
            "#     symmetric_key: \"<SYMMETRIC_KEY>\"\n",
            "\n",
            "# DPS X.509 provisioning configuration\n",
            "# provisioning:\n",
            "#   source: \"dps\"\n",
            "#   global_endpoint: \"https://global.azure-devices-provisioning.net\"\n",
            "#   scope_id: \"<SCOPE_ID>\"\n",
            "#   attestation:\n",
            "#     method: \"x509\"\n",
            "#     registration_id: \"<OPTIONAL REGISTRATION ID. LEAVE COMMENTED OUT TO REGISTER WITH CN OF identity_cert>\"\n",
            "#     identity_cert: \"<REQUIRED URI TO DEVICE IDENTITY CERTIFICATE>\"\n",
            "#     identity_pk: \"<REQUIRED URI TO DEVICE IDENTITY PRIVATE KEY>\"\n",
            "\n",
            "# External provisioning configuration\n",
            "# provisioning:\n",
            "#   source: \"external\"\n",
            "#   endpoint: \"http://localhost:9999\"\n",
            "\n",
            "###############################################################################\n",
            "# Certificate settings\n",
            "###############################################################################\n",
            "#\n",
            "# Configures the certificates required to operate the IoT Edge\n",
            "# runtime as a gateway which enables external leaf devices to securely\n",
            "# communicate with the Edge Hub. If not specified, the required certificates\n",
            "# are auto generated for quick start scenarios which are not intended for\n",
            "# production environments.\n",
            "#\n",
            "# Settings:\n",
            "#     device_ca_cert   - URI of the device ca certificate and its chain.\n",
            "#                        Optionally can be specified as a file path.\n",
            "#     device_ca_pk     - URI of the device ca private key file.\n",
            "#                        Optionally can be specified as a file path.\n",
            "#     trusted_ca_certs - URI containing all the trusted CA\n",
            "#                        certificates required for Edge module communication\n",
            "#                        Optionally can be specified as a file path.\n",
            "#\n",
            "# Note:\n",
            "# The values of all of these fields must be specified as a\n",
            "# \"file\" scheme URI such as \"file:///path/cert_key.pem\"\n",
            "###############################################################################\n",
            "\n",
            "# certificates:\n",
            "#   device_ca_cert: \"<ADD URI TO DEVICE CA CERTIFICATE HERE>\"\n",
            "#   device_ca_pk: \"<ADD URI TO DEVICE CA PRIVATE KEY HERE>\"\n",
            "#   trusted_ca_certs: \"<ADD URI TO TRUSTED CA CERTIFICATES HERE>\"\n",
            "\n",
            "###############################################################################\n",
            "# Edge Agent module spec\n",
            "###############################################################################\n",
            "#\n",
            "# Configures the initial Edge Agent module.\n",
            "#\n",
            "# The daemon uses this definition to bootstrap the system. The Edge Agent can\n",
            "# then update itself based on the Edge Agent module definition present in the\n",
            "# deployment in IoT Hub.\n",
            "#\n",
            "# Settings:\n",
            "#     name     - name of the edge agent module. Expected to be \"edgeAgent\".\n",
            "#     type     - type of module. Always \"docker\".\n",
            "#     env      - Any environment variable that needs to be set for edge agent module.\n",
            "#     config   - type specific configuration for edge agent module.\n",
            "#       image  - (docker) Modules require a docker image tag.\n",
            "#       auth   - (docker) Modules may need authoriation to connect to container registry.\n",
            "#\n",
            "# Adding environment variables:\n",
            "# replace \"env: {}\" with\n",
            "#  env:\n",
            "#    key: \"value\"\n",
            "#\n",
            "# Adding container registry authorization:\n",
            "# replace \"auth: {}\" with\n",
            "#    auth:\n",
            "#      username: \"username\"\n",
            "#      password: \"password\"\n",
            "#      serveraddress: \"serveraddress\"\n",
            "#\n",
            "###############################################################################\n",
            "\n",
            "agent:\n",
            "  name: \"edgeAgent\"\n",
            "  type: \"docker\"\n",
            "  env: {}\n",
            "  config:\n",
            "    image: \"mcr.microsoft.com/azureiotedge-agent:1.0\"\n",
            "    auth: {}\n",
            "\n",
            "###############################################################################\n",
            "# Edge device hostname\n",
            "###############################################################################\n",
            "#\n",
            "# Configures the environment variable 'IOTEDGE_GATEWAYHOSTNAME' injected into\n",
            "# modules. Regardless of case the hostname is specified below, a lower case\n",
            "# value is used to configure the Edge Hub server hostname as well as the\n",
            "# environment variable specified above.\n",
            "#\n",
            "# It is important to note that when connecting downstream devices to the\n",
            "# Edge Hub that the lower case value of this hostname be used in the\n",
            "# 'GatewayHostName' field of the device's connection string URI.\n",
            "###############################################################################\n",
            "\n",
            "hostname: \"ac78241a4d24\"\n",
            "\n",
            "###############################################################################\n",
            "# Watchdog settings\n",
            "###############################################################################\n",
            "#\n",
            "# The IoT edge daemon has a watchdog that periodically checks the health of the\n",
            "# Edge Agent module and restarts it if it's down.\n",
            "#\n",
            "# max_retries - Configures the number of retry attempts that the IoT edge daemon\n",
            "#               should make for failed operations before failing with a fatal error.\n",
            "#\n",
            "#               If this configuration is not specified, the daemon keeps retrying\n",
            "#               on errors and doesn't fail fatally.\n",
            "#\n",
            "#               On a fatal failure, the daemon returns an exit code which\n",
            "#               signifies the kind of error encountered. Currently, the following\n",
            "#               error codes are returned by the daemon -\n",
            "#\n",
            "#               150 - Invalid Device ID specified.\n",
            "#               151 - Invalid IoT hub configuration.\n",
            "#               152 - Invalid SAS token used to call IoT hub.\n",
            "#                     This could signal an invalid SAS key.\n",
            "#               1 - All other errors.\n",
            "###############################################################################\n",
            "\n",
            "#watchdog:\n",
            "#  max_retries: 2\n",
            "\n",
            "###############################################################################\n",
            "# Connect settings\n",
            "###############################################################################\n",
            "#\n",
            "#\n",
            "#Configures URIs used by clients of the management and workload APIs\n",
            "#     management_uri - used by the Edge Agent and 'iotedge' CLI to start,\n",
            "#                      stop, and manage modules\n",
            "#     workload_uri   - used by modules to retrieve tokens and certificates\n",
            "#\n",
            "# The following uri schemes are supported:\n",
            "#     http - connect over TCP\n",
            "#     unix - connect over Unix domain socket\n",
            "#\n",
            "###############################################################################\n",
            "\n",
            "connect:\n",
            "  management_uri: \"unix:///var/run/iotedge/mgmt.sock\"\n",
            "  workload_uri: \"unix:///var/run/iotedge/workload.sock\"\n",
            "\n",
            "###############################################################################\n",
            "# Listen settings\n",
            "###############################################################################\n",
            "#\n",
            "# Configures the listen addresses for the daemon.\n",
            "#     management_uri - used by the Edge Agent and 'iotedge' CLI to start,\n",
            "#                      stop, and manage modules\n",
            "#     workload_uri   - used by modules to retrieve tokens and certificates\n",
            "#\n",
            "# The following uri schemes are supported:\n",
            "#     http - listen over TCP\n",
            "#     unix - listen over Unix domain socket\n",
            "#     fd   - listen using systemd socket activation\n",
            "#\n",
            "# These values can be different from the connect URIs. For instance, when\n",
            "# using the fd:// scheme for systemd:\n",
            "#     listen address is fd://iotedge.workload,\n",
            "#     connect address is unix:///var/run/iotedge/workload.sock\n",
            "#\n",
            "###############################################################################\n",
            "\n",
            "listen:\n",
            "  management_uri: \"fd://iotedge.mgmt.socket\"\n",
            "  workload_uri: \"fd://iotedge.socket\"\n",
            "\n",
            "###############################################################################\n",
            "# Home Directory\n",
            "###############################################################################\n",
            "#\n",
            "# Configures the home directory for the daemon.\n",
            "#\n",
            "###############################################################################\n",
            "\n",
            "homedir: \"/var/lib/iotedge\"\n",
            "\n",
            "###############################################################################\n",
            "# Moby Container Runtime settings\n",
            "###############################################################################\n",
            "#\n",
            "# uri - configures the uri for the container runtime.\n",
            "# network - configures the network on which the containers will be created.\n",
            "#\n",
            "# Additional container network configuration such as enabling IPv6 networking\n",
            "# and providing the IPAM settings can be achieved by specifying the relevant\n",
            "# configuration in the network settings.\n",
            "#\n",
            "# network:\n",
            "#   name: \"azure-iot-edge\"\n",
            "#   ipv6: true\n",
            "#   ipam:\n",
            "#     config:\n",
            "#       -\n",
            "#           gateway: '172.18.0.1'\n",
            "#           subnet: '172.18.0.0/16'\n",
            "#           ip_range: '172.18.0.0/16'\n",
            "#       -\n",
            "#           gateway: '2021:ffff:e0:3b1:1::1'\n",
            "#           subnet: '2021:ffff:e0:3b1:1::/80'\n",
            "#           ip_range: '2021:ffff:e0:3b1:1::/80'\n",
            "###############################################################################\n",
            "\n",
            "moby_runtime:\n",
            "  uri: \"unix:///var/run/docker.sock\"\n",
            "  # network: \"azure-iot-edge\"\n",
            "  #\n",
            "  # network:\n",
            "  #   name: \"azure-iot-edge\"\n",
            "  #   ipv6: true\n",
            "  #   ipam:\n",
            "  #     config:\n",
            "  #       -\n",
            "  #           gateway: '172.18.0.1'\n",
            "  #           subnet: '172.18.0.0/16'\n",
            "  #           ip_range: '172.18.0.0/16'\n",
            "  #       -\n",
            "  #           gateway: '2021:ffff:e0:3b1:1::1'\n",
            "  #           subnet: '2021:ffff:e0:3b1:1::/80'\n",
            "  #           ip_range: '2021:ffff:e0:3b1:1::/80'\n",
            "connectionString : HostName=sliit-iot-ito-hub.azure-devices.net;DeviceId=social-distance-vm;SharedAccessKey=gXkRw+0Y2RscMwcH+N7ut6kG+bQa4YEJLhzMcA573bc=\n"
          ]
        }
      ]
    },
    {
      "cell_type": "code",
      "metadata": {
        "id": "Ohb6M7fC1MSH",
        "colab": {
          "base_uri": "https://localhost:8080/"
        },
        "outputId": "b8b5b02d-4ff0-4f1a-cac4-dec785762ace"
      },
      "source": [
        "!sudo service  iotedge restart"
      ],
      "execution_count": null,
      "outputs": [
        {
          "output_type": "stream",
          "name": "stdout",
          "text": [
            " * Restarting iotedged iotedge\n",
            "start-stop-daemon: warning: failed to kill 11266: No such process\n",
            "   ...done.\n"
          ]
        }
      ]
    },
    {
      "cell_type": "code",
      "metadata": {
        "colab": {
          "base_uri": "https://localhost:8080/"
        },
        "id": "ywHGdiK6JU9-",
        "outputId": "9b0e1c0f-a79d-4630-af19-dca7d541d20a"
      },
      "source": [
        "!service docker start"
      ],
      "execution_count": null,
      "outputs": [
        {
          "output_type": "stream",
          "name": "stdout",
          "text": [
            " * Starting Docker: docker\n",
            "   ...done.\n"
          ]
        }
      ]
    },
    {
      "cell_type": "code",
      "metadata": {
        "colab": {
          "base_uri": "https://localhost:8080/"
        },
        "id": "h2Z-Fm52Jtfd",
        "outputId": "f05014f3-3ad1-4819-b77b-7a97501d46b7"
      },
      "source": [
        "!docker images"
      ],
      "execution_count": null,
      "outputs": [
        {
          "output_type": "stream",
          "name": "stdout",
          "text": [
            "Cannot connect to the Docker daemon at unix:///var/run/docker.sock. Is the docker daemon running?\n"
          ]
        }
      ]
    },
    {
      "cell_type": "code",
      "metadata": {
        "colab": {
          "base_uri": "https://localhost:8080/"
        },
        "id": "Qv-4pZRGJ8u7",
        "outputId": "c8c5734c-9767-493f-a132-e2fba19b11ae"
      },
      "source": [
        "!dockerd"
      ],
      "execution_count": null,
      "outputs": [
        {
          "output_type": "stream",
          "name": "stdout",
          "text": [
            "\u001b[36mINFO\u001b[0m[2021-10-03T17:16:48.240905624Z] Starting up                                  \n",
            "\u001b[36mINFO\u001b[0m[2021-10-03T17:16:48.242534520Z] libcontainerd: started new containerd process  \u001b[36mpid\u001b[0m=12176\n",
            "\u001b[36mINFO\u001b[0m[2021-10-03T17:16:48.242601097Z] parsed scheme: \"unix\"                         \u001b[36mmodule\u001b[0m=grpc\n",
            "\u001b[36mINFO\u001b[0m[2021-10-03T17:16:48.242629405Z] scheme \"unix\" not registered, fallback to default scheme  \u001b[36mmodule\u001b[0m=grpc\n",
            "\u001b[36mINFO\u001b[0m[2021-10-03T17:16:48.242672177Z] ccResolverWrapper: sending update to cc: {[{unix:///var/run/docker/containerd/containerd.sock  <nil> 0 <nil>}] <nil> <nil>}  \u001b[36mmodule\u001b[0m=grpc\n",
            "\u001b[36mINFO\u001b[0m[2021-10-03T17:16:48.242701817Z] ClientConn switching balancer to \"pick_first\"  \u001b[36mmodule\u001b[0m=grpc\n",
            "\u001b[36mINFO\u001b[0m[2021-10-03T17:16:48.264036967Z] starting containerd                           \u001b[36mrevision\u001b[0m=8848fdb7c4ae3815afcc990a8a99d663dda1b590 \u001b[36mversion\u001b[0m=1.4.10\n",
            "\u001b[36mINFO\u001b[0m[2021-10-03T17:16:48.298111568Z] loading plugin \"io.containerd.content.v1.content\"...  \u001b[36mtype\u001b[0m=io.containerd.content.v1\n",
            "\u001b[36mINFO\u001b[0m[2021-10-03T17:16:48.298198442Z] loading plugin \"io.containerd.snapshotter.v1.aufs\"...  \u001b[36mtype\u001b[0m=io.containerd.snapshotter.v1\n",
            "\u001b[36mINFO\u001b[0m[2021-10-03T17:16:48.301648284Z] skip loading plugin \"io.containerd.snapshotter.v1.aufs\"...  \u001b[36merror\u001b[0m=\"aufs is not supported (modprobe aufs failed: exit status 1 \\\"modprobe: FATAL: Module aufs not found in directory /lib/modules/5.4.104+\\\\n\\\"): skip plugin\" \u001b[36mtype\u001b[0m=io.containerd.snapshotter.v1\n",
            "\u001b[36mINFO\u001b[0m[2021-10-03T17:16:48.301697473Z] loading plugin \"io.containerd.snapshotter.v1.btrfs\"...  \u001b[36mtype\u001b[0m=io.containerd.snapshotter.v1\n",
            "\u001b[36mINFO\u001b[0m[2021-10-03T17:16:48.302072548Z] skip loading plugin \"io.containerd.snapshotter.v1.btrfs\"...  \u001b[36merror\u001b[0m=\"path /var/lib/docker/containerd/daemon/io.containerd.snapshotter.v1.btrfs (overlay) must be a btrfs filesystem to be used with the btrfs snapshotter: skip plugin\" \u001b[36mtype\u001b[0m=io.containerd.snapshotter.v1\n",
            "\u001b[36mINFO\u001b[0m[2021-10-03T17:16:48.302103331Z] loading plugin \"io.containerd.snapshotter.v1.devmapper\"...  \u001b[36mtype\u001b[0m=io.containerd.snapshotter.v1\n",
            "\u001b[33mWARN\u001b[0m[2021-10-03T17:16:48.302144776Z] failed to load plugin io.containerd.snapshotter.v1.devmapper  \u001b[33merror\u001b[0m=\"devmapper not configured\"\n",
            "\u001b[36mINFO\u001b[0m[2021-10-03T17:16:48.302170000Z] loading plugin \"io.containerd.snapshotter.v1.native\"...  \u001b[36mtype\u001b[0m=io.containerd.snapshotter.v1\n",
            "\u001b[36mINFO\u001b[0m[2021-10-03T17:16:48.302217755Z] loading plugin \"io.containerd.snapshotter.v1.overlayfs\"...  \u001b[36mtype\u001b[0m=io.containerd.snapshotter.v1\n",
            "\u001b[36mINFO\u001b[0m[2021-10-03T17:16:48.302429401Z] loading plugin \"io.containerd.snapshotter.v1.zfs\"...  \u001b[36mtype\u001b[0m=io.containerd.snapshotter.v1\n",
            "\u001b[36mINFO\u001b[0m[2021-10-03T17:16:48.302728666Z] skip loading plugin \"io.containerd.snapshotter.v1.zfs\"...  \u001b[36merror\u001b[0m=\"path /var/lib/docker/containerd/daemon/io.containerd.snapshotter.v1.zfs must be a zfs filesystem to be used with the zfs snapshotter: skip plugin\" \u001b[36mtype\u001b[0m=io.containerd.snapshotter.v1\n",
            "\u001b[36mINFO\u001b[0m[2021-10-03T17:16:48.302760590Z] loading plugin \"io.containerd.metadata.v1.bolt\"...  \u001b[36mtype\u001b[0m=io.containerd.metadata.v1\n",
            "\u001b[33mWARN\u001b[0m[2021-10-03T17:16:48.302792257Z] could not use snapshotter devmapper in metadata plugin  \u001b[33merror\u001b[0m=\"devmapper not configured\"\n",
            "\u001b[36mINFO\u001b[0m[2021-10-03T17:16:48.302813063Z] metadata content store policy set             \u001b[36mpolicy\u001b[0m=shared\n",
            "\u001b[36mINFO\u001b[0m[2021-10-03T17:16:48.302935517Z] loading plugin \"io.containerd.differ.v1.walking\"...  \u001b[36mtype\u001b[0m=io.containerd.differ.v1\n",
            "\u001b[36mINFO\u001b[0m[2021-10-03T17:16:48.302980289Z] loading plugin \"io.containerd.gc.v1.scheduler\"...  \u001b[36mtype\u001b[0m=io.containerd.gc.v1\n",
            "\u001b[36mINFO\u001b[0m[2021-10-03T17:16:48.303043440Z] loading plugin \"io.containerd.service.v1.introspection-service\"...  \u001b[36mtype\u001b[0m=io.containerd.service.v1\n",
            "\u001b[36mINFO\u001b[0m[2021-10-03T17:16:48.303105981Z] loading plugin \"io.containerd.service.v1.containers-service\"...  \u001b[36mtype\u001b[0m=io.containerd.service.v1\n",
            "\u001b[36mINFO\u001b[0m[2021-10-03T17:16:48.303137681Z] loading plugin \"io.containerd.service.v1.content-service\"...  \u001b[36mtype\u001b[0m=io.containerd.service.v1\n",
            "\u001b[36mINFO\u001b[0m[2021-10-03T17:16:48.303183691Z] loading plugin \"io.containerd.service.v1.diff-service\"...  \u001b[36mtype\u001b[0m=io.containerd.service.v1\n",
            "\u001b[36mINFO\u001b[0m[2021-10-03T17:16:48.303225707Z] loading plugin \"io.containerd.service.v1.images-service\"...  \u001b[36mtype\u001b[0m=io.containerd.service.v1\n",
            "\u001b[36mINFO\u001b[0m[2021-10-03T17:16:48.303270913Z] loading plugin \"io.containerd.service.v1.leases-service\"...  \u001b[36mtype\u001b[0m=io.containerd.service.v1\n",
            "\u001b[36mINFO\u001b[0m[2021-10-03T17:16:48.303302023Z] loading plugin \"io.containerd.service.v1.namespaces-service\"...  \u001b[36mtype\u001b[0m=io.containerd.service.v1\n",
            "\u001b[36mINFO\u001b[0m[2021-10-03T17:16:48.303326722Z] loading plugin \"io.containerd.service.v1.snapshots-service\"...  \u001b[36mtype\u001b[0m=io.containerd.service.v1\n",
            "\u001b[36mINFO\u001b[0m[2021-10-03T17:16:48.303350923Z] loading plugin \"io.containerd.runtime.v1.linux\"...  \u001b[36mtype\u001b[0m=io.containerd.runtime.v1\n",
            "\u001b[36mINFO\u001b[0m[2021-10-03T17:16:48.303506109Z] loading plugin \"io.containerd.runtime.v2.task\"...  \u001b[36mtype\u001b[0m=io.containerd.runtime.v2\n",
            "\u001b[36mINFO\u001b[0m[2021-10-03T17:16:48.303612666Z] loading plugin \"io.containerd.monitor.v1.cgroups\"...  \u001b[36mtype\u001b[0m=io.containerd.monitor.v1\n",
            "\u001b[36mINFO\u001b[0m[2021-10-03T17:16:48.304069726Z] loading plugin \"io.containerd.service.v1.tasks-service\"...  \u001b[36mtype\u001b[0m=io.containerd.service.v1\n",
            "\u001b[36mINFO\u001b[0m[2021-10-03T17:16:48.304119541Z] loading plugin \"io.containerd.internal.v1.restart\"...  \u001b[36mtype\u001b[0m=io.containerd.internal.v1\n",
            "\u001b[36mINFO\u001b[0m[2021-10-03T17:16:48.304190038Z] loading plugin \"io.containerd.grpc.v1.containers\"...  \u001b[36mtype\u001b[0m=io.containerd.grpc.v1\n",
            "\u001b[36mINFO\u001b[0m[2021-10-03T17:16:48.304252300Z] loading plugin \"io.containerd.grpc.v1.content\"...  \u001b[36mtype\u001b[0m=io.containerd.grpc.v1\n",
            "\u001b[36mINFO\u001b[0m[2021-10-03T17:16:48.304286793Z] loading plugin \"io.containerd.grpc.v1.diff\"...  \u001b[36mtype\u001b[0m=io.containerd.grpc.v1\n",
            "\u001b[36mINFO\u001b[0m[2021-10-03T17:16:48.304314072Z] loading plugin \"io.containerd.grpc.v1.events\"...  \u001b[36mtype\u001b[0m=io.containerd.grpc.v1\n",
            "\u001b[36mINFO\u001b[0m[2021-10-03T17:16:48.304338645Z] loading plugin \"io.containerd.grpc.v1.healthcheck\"...  \u001b[36mtype\u001b[0m=io.containerd.grpc.v1\n",
            "\u001b[36mINFO\u001b[0m[2021-10-03T17:16:48.304363909Z] loading plugin \"io.containerd.grpc.v1.images\"...  \u001b[36mtype\u001b[0m=io.containerd.grpc.v1\n",
            "\u001b[36mINFO\u001b[0m[2021-10-03T17:16:48.304409588Z] loading plugin \"io.containerd.grpc.v1.leases\"...  \u001b[36mtype\u001b[0m=io.containerd.grpc.v1\n",
            "\u001b[36mINFO\u001b[0m[2021-10-03T17:16:48.304466608Z] loading plugin \"io.containerd.grpc.v1.namespaces\"...  \u001b[36mtype\u001b[0m=io.containerd.grpc.v1\n",
            "\u001b[36mINFO\u001b[0m[2021-10-03T17:16:48.304497665Z] loading plugin \"io.containerd.internal.v1.opt\"...  \u001b[36mtype\u001b[0m=io.containerd.internal.v1\n",
            "\u001b[36mINFO\u001b[0m[2021-10-03T17:16:48.304577432Z] loading plugin \"io.containerd.grpc.v1.snapshots\"...  \u001b[36mtype\u001b[0m=io.containerd.grpc.v1\n",
            "\u001b[36mINFO\u001b[0m[2021-10-03T17:16:48.304615269Z] loading plugin \"io.containerd.grpc.v1.tasks\"...  \u001b[36mtype\u001b[0m=io.containerd.grpc.v1\n",
            "\u001b[36mINFO\u001b[0m[2021-10-03T17:16:48.304645874Z] loading plugin \"io.containerd.grpc.v1.version\"...  \u001b[36mtype\u001b[0m=io.containerd.grpc.v1\n",
            "\u001b[36mINFO\u001b[0m[2021-10-03T17:16:48.304671784Z] loading plugin \"io.containerd.grpc.v1.introspection\"...  \u001b[36mtype\u001b[0m=io.containerd.grpc.v1\n",
            "\u001b[36mINFO\u001b[0m[2021-10-03T17:16:48.304942455Z] serving...                                    \u001b[36maddress\u001b[0m=/var/run/docker/containerd/containerd-debug.sock\n",
            "\u001b[36mINFO\u001b[0m[2021-10-03T17:16:48.305093814Z] serving...                                    \u001b[36maddress\u001b[0m=/var/run/docker/containerd/containerd.sock.ttrpc\n",
            "\u001b[36mINFO\u001b[0m[2021-10-03T17:16:48.305185919Z] serving...                                    \u001b[36maddress\u001b[0m=/var/run/docker/containerd/containerd.sock\n",
            "\u001b[36mINFO\u001b[0m[2021-10-03T17:16:48.305215585Z] containerd successfully booted in 0.042231s  \n",
            "\u001b[36mINFO\u001b[0m[2021-10-03T17:16:48.321936682Z] parsed scheme: \"unix\"                         \u001b[36mmodule\u001b[0m=grpc\n",
            "\u001b[36mINFO\u001b[0m[2021-10-03T17:16:48.322003853Z] scheme \"unix\" not registered, fallback to default scheme  \u001b[36mmodule\u001b[0m=grpc\n",
            "\u001b[36mINFO\u001b[0m[2021-10-03T17:16:48.322047659Z] ccResolverWrapper: sending update to cc: {[{unix:///var/run/docker/containerd/containerd.sock  <nil> 0 <nil>}] <nil> <nil>}  \u001b[36mmodule\u001b[0m=grpc\n",
            "\u001b[36mINFO\u001b[0m[2021-10-03T17:16:48.322075453Z] ClientConn switching balancer to \"pick_first\"  \u001b[36mmodule\u001b[0m=grpc\n",
            "\u001b[36mINFO\u001b[0m[2021-10-03T17:16:48.331447261Z] parsed scheme: \"unix\"                         \u001b[36mmodule\u001b[0m=grpc\n",
            "\u001b[36mINFO\u001b[0m[2021-10-03T17:16:48.331481171Z] scheme \"unix\" not registered, fallback to default scheme  \u001b[36mmodule\u001b[0m=grpc\n",
            "\u001b[36mINFO\u001b[0m[2021-10-03T17:16:48.331526150Z] ccResolverWrapper: sending update to cc: {[{unix:///var/run/docker/containerd/containerd.sock  <nil> 0 <nil>}] <nil> <nil>}  \u001b[36mmodule\u001b[0m=grpc\n",
            "\u001b[36mINFO\u001b[0m[2021-10-03T17:16:48.331542726Z] ClientConn switching balancer to \"pick_first\"  \u001b[36mmodule\u001b[0m=grpc\n",
            "\u001b[31mERRO\u001b[0m[2021-10-03T17:16:48.345199867Z] failed to mount overlay: invalid argument     \u001b[31mstorage-driver\u001b[0m=overlay2\n",
            "\u001b[31mERRO\u001b[0m[2021-10-03T17:16:48.345306961Z] exec: \"fuse-overlayfs\": executable file not found in $PATH  \u001b[31mstorage-driver\u001b[0m=fuse-overlayfs\n",
            "\u001b[31mERRO\u001b[0m[2021-10-03T17:16:48.348950554Z] AUFS was not found in /proc/filesystems       \u001b[31mstorage-driver\u001b[0m=aufs\n",
            "\u001b[31mERRO\u001b[0m[2021-10-03T17:16:48.361180420Z] failed to mount overlay: invalid argument     \u001b[31mstorage-driver\u001b[0m=overlay\n",
            "\u001b[33mWARN\u001b[0m[2021-10-03T17:16:48.373374778Z] Your kernel does not support cgroup blkio weight \n",
            "\u001b[33mWARN\u001b[0m[2021-10-03T17:16:48.373428558Z] Your kernel does not support cgroup blkio weight_device \n",
            "\u001b[36mINFO\u001b[0m[2021-10-03T17:16:48.373674506Z] Loading containers: start.                   \n",
            "\u001b[33mWARN\u001b[0m[2021-10-03T17:16:48.377099431Z] Running iptables --wait -t nat -L -n failed with message: `iptables v1.6.1: can't initialize iptables table `nat': Permission denied (you must be root)\n",
            "Perhaps iptables or your kernel needs to be upgraded.`, error: exit status 3 \n",
            "\u001b[36mINFO\u001b[0m[2021-10-03T17:16:48.433861639Z] stopping event stream following graceful shutdown  \u001b[36merror\u001b[0m=\"<nil>\" \u001b[36mmodule\u001b[0m=libcontainerd \u001b[36mnamespace\u001b[0m=moby\n",
            "\u001b[36mINFO\u001b[0m[2021-10-03T17:16:48.434353540Z] stopping event stream following graceful shutdown  \u001b[36merror\u001b[0m=\"context canceled\" \u001b[36mmodule\u001b[0m=libcontainerd \u001b[36mnamespace\u001b[0m=plugins.moby\n",
            "\u001b[36mINFO\u001b[0m[2021-10-03T17:16:48.434357765Z] stopping healthcheck following graceful shutdown  \u001b[36mmodule\u001b[0m=libcontainerd\n",
            "\u001b[33mWARN\u001b[0m[2021-10-03T17:16:49.435112425Z] grpc: addrConn.createTransport failed to connect to {unix:///var/run/docker/containerd/containerd.sock  <nil> 0 <nil>}. Err :connection error: desc = \"transport: Error while dialing dial unix:///var/run/docker/containerd/containerd.sock: timeout\". Reconnecting...  \u001b[33mmodule\u001b[0m=grpc\n",
            "failed to start daemon: Error initializing network controller: error obtaining controller instance: failed to create NAT chain DOCKER: iptables failed: iptables -t nat -N DOCKER: iptables v1.6.1: can't initialize iptables table `nat': Permission denied (you must be root)\n",
            "Perhaps iptables or your kernel needs to be upgraded.\n",
            " (exit status 3)\n"
          ]
        }
      ]
    }
  ]
}